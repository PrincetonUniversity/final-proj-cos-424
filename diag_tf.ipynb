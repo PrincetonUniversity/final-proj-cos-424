{
 "cells": [
  {
   "cell_type": "code",
   "execution_count": 137,
   "metadata": {
    "collapsed": false
   },
   "outputs": [
    {
     "name": "stdout",
     "output_type": "stream",
     "text": [
      "Idempotent data loading. For a given chromosome n (a string).\n",
      "    \n",
      "    Returns (train_df, test_df, train_ix, test_ix, train_tissues, tfs)\n",
      "    \n",
      "    The first two are the train and test dataframes, and test_ix are the\n",
      "    values in test_df['assayed'] that are missing and need to be imputed (with the\n",
      "    correct answer being in test_df['filled'] in the corresponding locations.\n",
      "    train_ix are the assayed (known) methylation values from limited microarray\n",
      "    sampling (e.g., test_df['assayed'].iloc[train_ix] can be used for prediction of\n",
      "    test_df['filled'].iloc[test_ix], and the former should be about equal to\n",
      "    test_df['filled'].iloc[train_ix] (two different ways of sampling methylation).\n",
      "    \n",
      "    Imports genetic context and adds those columns to the parameter df, returning\n",
      "    a merged one. tfs is the list of names of new transcription\n",
      "    factors.\n",
      "    \n",
      "    train_tissues is a list of the names of columns with chromosome methylation values.\n",
      "    \n",
      "    Note that loading from scratch may take ~5 min (for merging genetic contexts).\n"
     ]
    },
    {
     "name": "stderr",
     "output_type": "stream",
     "text": [
      "Exception ignored in: <bound method BaseSession.__del__ of <tensorflow.python.client.session.InteractiveSession object at 0x7f46f068dfd0>>\n",
      "Traceback (most recent call last):\n",
      "  File \"/usr/local/lib/python3.5/dist-packages/tensorflow/python/client/session.py\", line 140, in __del__\n",
      "    self.close()\n",
      "  File \"/usr/local/lib/python3.5/dist-packages/tensorflow/python/client/session.py\", line 905, in close\n",
      "    self._default_session.__exit__(None, None, None)\n",
      "  File \"/usr/lib/python3.5/contextlib.py\", line 66, in __exit__\n",
      "    next(self.gen)\n",
      "  File \"/usr/local/lib/python3.5/dist-packages/tensorflow/python/framework/ops.py\", line 3215, in get_controller\n",
      "    assert self.stack[-1] is default\n",
      "AssertionError: \n"
     ]
    }
   ],
   "source": [
    "# Imports\n",
    "\n",
    "%matplotlib inline\n",
    "import matplotlib.pyplot as plt\n",
    "from matplotlib.colors import LogNorm\n",
    "import tensorflow as tf\n",
    "import numpy as np\n",
    "import pandas as pd\n",
    "from itertools import *\n",
    "import sklearn\n",
    "import math\n",
    "import random\n",
    "import sys\n",
    "import multiprocessing\n",
    "nproc = max(1, multiprocessing.cpu_count() - 1)\n",
    "\n",
    "if 'utils' not in sys.path:\n",
    "    sys.path.append('utils')\n",
    "\n",
    "import data_loader\n",
    "\n",
    "# Warnings\n",
    "\n",
    "import warnings\n",
    "warnings.filterwarnings('ignore')\n",
    "\n",
    "# Idempotent, cached data retrieval script\n",
    "\n",
    "print(data_loader.load_chromosome.__doc__)\n",
    "train_df, test_df, train_ix, test_ix, train_tissues, tfs = \\\n",
    "    data_loader.load_chromosome_cached('1')\n",
    "    \n",
    "sess = tf.InteractiveSession()"
   ]
  },
  {
   "cell_type": "code",
   "execution_count": 138,
   "metadata": {
    "collapsed": false,
    "scrolled": false
   },
   "outputs": [
    {
     "name": "stdout",
     "output_type": "stream",
     "text": [
      "nans in mean-imputed 0\n",
      "nans in interpolated 0\n"
     ]
    }
   ],
   "source": [
    "# Perhaps there are obvious sequence trends?\n",
    "def local_impute(data):\n",
    "    #http://stackoverflow.com/questions/9537543/replace-nans-in-numpy-array-with-closest-non-nan-value\n",
    "    mask = np.isnan(data)\n",
    "    data[mask] = np.interp(np.flatnonzero(mask), np.flatnonzero(~mask), data[~mask])\n",
    "    return data\n",
    "\n",
    "# Do mean imputation on our training data.\n",
    "def mean_impute(data):\n",
    "    mask = np.isnan(data)\n",
    "    data[mask] = float(data.mean()) # just = m messes with serialization\n",
    "    return data\n",
    "train_df_imp = train_df\n",
    "train_df_int = train_df\n",
    "for i in train_tissues:\n",
    "    train_df_imp[i] = mean_impute(train_df[i].copy())\n",
    "    train_df_int[i] = local_impute(train_df[i].copy())\n",
    "print('nans in mean-imputed', np.isnan(train_df_imp[train_tissues]).sum().sum())\n",
    "print('nans in interpolated', np.isnan(train_df_int[train_tissues]).sum().sum())"
   ]
  },
  {
   "cell_type": "code",
   "execution_count": 139,
   "metadata": {
    "collapsed": true
   },
   "outputs": [],
   "source": [
    "# Copied pretty much directly from sklearn\n",
    "\n",
    "# Returns a TensorFlow scalar with the size of the i-th dimension for\n",
    "# the parameter tensor x.\n",
    "def tf_get_shape(x, i):\n",
    "    return tf.squeeze(tf.slice(tf.shape(x), [i], [1])) \n",
    "\n",
    "def tf_nrows(x):\n",
    "    return tf_get_shape(x, 0)\n",
    "\n",
    "def tf_ncols(x):\n",
    "    return tf_get_shape(x, 1)\n",
    "\n",
    "# Simultaneous K-cluster likelihood computation.\n",
    "# X is NxD, mus is KxD, sigmas is KxD\n",
    "# Output is KxN likelihoods for each sample in each cluster.\n",
    "def tf_log_normals(X, mus, sigmas):\n",
    "    # p(X) = sqrt(a * b * c)\n",
    "    # a = (2 pi)^(-p)\n",
    "    # b = det(sigma)^(-1)\n",
    "    # c = exp(-(x - mu)^T sigma^(-1) (x - mu)) [expanded for numerical stability]\n",
    "    #\n",
    "    # Below we make simplifications since sigma is diag\n",
    "    \n",
    "    D = tf_ncols(mus)\n",
    "    XT = tf.transpose(X) # pxN\n",
    "    invsig = tf.inv(sigmas)\n",
    "    \n",
    "    loga = -tf.cast(D, 'float64') * tf.log(tf.constant(2 * np.pi, dtype='float64')) # scalar\n",
    "    logb = tf.reduce_sum(tf.log(invsig), 1, keep_dims=True) # Kx1\n",
    "    logc =  \\\n",
    "        - tf.reduce_sum(invsig * tf.square(mus), 1, keep_dims=True) \\\n",
    "        + 2 * tf.matmul(invsig * mus, XT) \\\n",
    "        - tf.matmul(invsig, tf.square(XT)) # KxN\n",
    "    \n",
    "    return 0.5 * (loga + logb + logc)\n",
    "\n",
    "# Stably log-sum-exps likelihood along rows.\n",
    "# Reduces KxN tensor L to 1xN tensor\n",
    "def tf_log_sum_exp(L):\n",
    "    maxs = tf.reduce_max(L, 0, keep_dims=True) # 1xN\n",
    "    return tf.log(tf.reduce_sum(tf.exp(L - maxs), 0, keep_dims=True)) + maxs\n",
    "\n",
    "# X is NxD, mus is KxD, sigmas KxD, alphas is K\n",
    "# output is KxN log likelihoods.\n",
    "def tf_log_likelihood(X, mus, sigmas, alphas):\n",
    "    alphas = tf.expand_dims(alphas, 1) # Kx1\n",
    "    return tf_log_normals(X, mus, sigmas) + tf.log(alphas) # KxN\n",
    "\n",
    "# X is NxD, mus is KxD, sigmas KxD, alphas is K\n",
    "# output is 1xN log probability for each sample, KxN responsibilities\n",
    "def estep(X, mus, sigmas, alphas):\n",
    "    log_likelihoods = tf_log_likelihood(X, mus, sigmas, alphas)\n",
    "    sample_log_prob = tf_log_sum_exp(log_likelihoods) # 1xN\n",
    "    return sample_log_prob, tf.exp(log_likelihoods - sample_log_prob)\n",
    "\n",
    "EPS = np.finfo(float).eps\n",
    "MIN_COVAR = 0.1\n",
    "# X is NxD, resp is KxN (and normalized along axis 0)\n",
    "# Returns maximize step means, covariance, and cluster priors,\n",
    "# which have dimension KxD, KxD, and K, respectively\n",
    "def mstep(X, resp):\n",
    "    weights = tf.reduce_sum(resp, 1) # K\n",
    "    invweights = tf.expand_dims(tf.inv(weights + 10 * EPS), 1) # Kx1\n",
    "    alphas = EPS + weights / (tf.reduce_sum(weights) + 10 * EPS) # K\n",
    "    weighted_cluster_sum = tf.matmul(resp, X) # KxD \n",
    "    mus = weighted_cluster_sum * invweights\n",
    "    avg_X2 = tf.matmul(resp, tf.square(X)) * invweights\n",
    "    avg_mu2 = tf.square(mus)\n",
    "    avg_X_mu = mus * weighted_cluster_sum * invweights\n",
    "    sigmas = avg_X2 - 2 * avg_X_mu + avg_mu2 + MIN_COVAR\n",
    "    # (x - mu) (x-mu)^T for banded. \n",
    "    return mus, sigmas, alphas"
   ]
  },
  {
   "cell_type": "code",
   "execution_count": 140,
   "metadata": {
    "collapsed": false
   },
   "outputs": [
    {
     "name": "stdout",
     "output_type": "stream",
     "text": [
      "actual likelihoods [[ 0.4348057   0.52082171  0.4280446   0.26600261  0.33595189]\n",
      " [ 0.53501443  0.35469852  0.4533658   0.40626273  0.61528241]\n",
      " [ 0.03017986  0.12447976  0.1185896   0.32773466  0.0487657 ]]\n",
      "log likelihoods    [[ 0.4348057   0.52082171  0.4280446   0.26600261  0.33595189]\n",
      " [ 0.53501443  0.35469852  0.4533658   0.40626273  0.61528241]\n",
      " [ 0.03017986  0.12447976  0.1185896   0.32773466  0.0487657 ]]\n",
      "K=0 rmse=1.4043333874306804e-16\n",
      "K=1 rmse=1.7554167342883506e-16\n",
      "K=2 rmse=1.8009738386748302e-16\n"
     ]
    }
   ],
   "source": [
    "# Make sure N, D are small so the numerically unstable verification code\n",
    "# doesn't underflow.\n",
    "N = 5\n",
    "D = 10\n",
    "\n",
    "X = np.random.normal(size=(N, D))\n",
    "mu = X.mean(axis=0)\n",
    "sigma = X.std(axis=0)\n",
    "mus = np.array([mu, mu, mu * 2])\n",
    "sigmas = np.array([sigma, sigma * 2, sigma])\n",
    "K = len(sigmas)\n",
    "alphas = np.random.dirichlet(np.ones(K), 1)[0]\n",
    "\n",
    "mean_ll, resp = sess.run(estep(*(tf.constant(x) for x in (X, mus, sigmas, alphas))))\n",
    "def normal_likelihoods(X, mu, sigma):\n",
    "    exponent = -np.dot((X - mu[np.newaxis, :]) ** 2, 1 / sigma) / 2\n",
    "    return (2 * np.pi) ** (-D / 2) * np.prod(sigma) ** (-1 / 2) * np.exp(exponent)\n",
    "actual = np.array([normal_likelihoods(X, mu, sigma) for mu, sigma in zip(mus, sigmas)])\n",
    "actual = sklearn.preprocessing.normalize(actual * alphas[:, np.newaxis], norm='l1', axis=0)\n",
    "resp = sklearn.preprocessing.normalize(resp, norm='l1', axis=0)\n",
    "print('actual likelihoods', actual)\n",
    "print('log likelihoods   ', resp)\n",
    "rmses = np.sqrt(sklearn.metrics.mean_squared_error(actual.T, resp.T, multioutput='raw_values'))\n",
    "for i, rmse in enumerate(rmses):\n",
    "    print('K={} rmse={}'.format(i, rmse))"
   ]
  },
  {
   "cell_type": "code",
   "execution_count": 141,
   "metadata": {
    "collapsed": true
   },
   "outputs": [],
   "source": [
    "# Similar pattern to\n",
    "# https://gist.github.com/narphorium/d06b7ed234287e319f18\n",
    "\n",
    "#todo try initializing covar to emprical cv computed from kmeans labels\n",
    "\n",
    "# Runs up to max_steps EM iterations, stopping earlier if log likelihood improves\n",
    "# less than tol.\n",
    "# X should be an NxD data matrix, initial_mus should be KxD\n",
    "# max_steps should be an int, tol should be a float.\n",
    "def fit_em(X, initial_mus, max_steps, tol):\n",
    "    N, D = X.shape\n",
    "    K, Dmu = initial_mus.shape\n",
    "    assert D == Dmu\n",
    "        \n",
    "    mus0 = initial_mus\n",
    "    sigmas0 = np.tile(np.var(X, axis=0), (K, 1))\n",
    "    alphas0 = np.ones(K) / K\n",
    "    X = tf.constant(X)\n",
    "    \n",
    "    mus, sigmas, alphas = (tf.Variable(x, dtype='float64') for x in [mus0, sigmas0, alphas0])\n",
    "    \n",
    "    sess.run(tf.initialize_all_variables())\n",
    "    all_ll, resp = estep(X, mus, sigmas, alphas)\n",
    "    cmus, csigmas, calphas = mstep(X, resp)\n",
    "    update_mus_step = tf.assign(mus, cmus)\n",
    "    update_sigmas_step = tf.assign(sigmas, csigmas)\n",
    "    update_alphas_step = tf.assign(alphas, calphas)     \n",
    "    \n",
    "    init_op = tf.initialize_all_variables()\n",
    "    ll = prev_ll = -np.inf\n",
    "                         \n",
    "    with tf.Session() as sess2:\n",
    "        sess2.run(init_op)\n",
    "        for i in range(max_steps):\n",
    "            ll = sess2.run(tf.reduce_mean(all_ll))\n",
    "            sess2.run((update_mus_step, update_sigmas_step, update_alphas_step))\n",
    "            print('EM iteration', i, 'log likelihood', ll)\n",
    "            if abs(ll - prev_ll) < tol:\n",
    "                break\n",
    "            prev_ll = ll\n",
    "        m, s, a = sess2.run((mus, sigmas, alphas))\n",
    "    \n",
    "    return ll, m, s, a"
   ]
  },
  {
   "cell_type": "code",
   "execution_count": 142,
   "metadata": {
    "collapsed": false
   },
   "outputs": [],
   "source": [
    "# Given a set of partial observations xs each of dimension O < D for a fitted GMM model with \n",
    "# K cluster priors alpha, KxD means mus, and KxD diagonal covariances sigmas,\n",
    "# returns the weighted sum of normals for the remaining D - O dimensions.\n",
    "#\n",
    "# Returns posterior_mus, posterior_sigmas, posterior_prior,\n",
    "# of dimensions:\n",
    "# Kx(D-O), Kx(D-O), NxK, respectively (each mu, sigma is the same for all posteriors).\n",
    "# NxK, NxKxD, NxKxD, respectively, for each x in xs, total of N.\n",
    "def marginal_posterior(xs, mus, sigmas, alphas):\n",
    "    # https://gbhqed.wordpress.com/2010/02/21/conditional-and-marginal-distributions-of-a-multivariate-gaussian/\n",
    "    # diagonal case is easy:\n",
    "    # https://en.wikipedia.org/wiki/Schur_complement#Applications_to_probability_theory_and_statistics\n",
    "    O = xs.shape[1]\n",
    "    D = mus.shape[1]\n",
    "    observed_mus, observed_sigmas = (tf.constant(a, dtype='float64')\n",
    "                                     for a in (mus[:,0:O], sigmas[:, 0:O]))\n",
    "    ll = tf_log_likelihood(xs, observed_mus, observed_sigmas, alphas) # KxN\n",
    "    norm = tf_log_sum_exp(ll) # 1xN\n",
    "    ll, norm = sess.run((ll, norm))\n",
    "    return mus[:, O:D], sigmas[:, O:D], np.transpose(ll / norm)\n",
    "\n",
    "# A \"sparser\" estimate which just uses the most likely cluster's mean as the estimate.\n",
    "def argmax_exp(mus, sigmas, alphas):\n",
    "    i = np.argmax(alphas)\n",
    "    return mus[i]"
   ]
  },
  {
   "cell_type": "code",
   "execution_count": 143,
   "metadata": {
    "collapsed": false
   },
   "outputs": [
    {
     "name": "stdout",
     "output_type": "stream",
     "text": [
      "EM iteration 0 log likelihood -7.35198152992\n",
      "EM iteration 1 log likelihood -6.47594878606\n",
      "EM iteration 2 log likelihood -6.24928966308\n",
      "EM iteration 3 log likelihood -5.98252419877\n",
      "EM iteration 4 log likelihood -5.77028672391\n",
      "EM iteration 5 log likelihood -5.58200630151\n",
      "EM iteration 6 log likelihood -5.34024207111\n",
      "EM iteration 7 log likelihood -5.15963669311\n",
      "EM iteration 8 log likelihood -4.99983084257\n",
      "EM iteration 9 log likelihood -4.93286240062\n",
      "EM iteration 10 log likelihood -4.89874214866\n",
      "EM iteration 11 log likelihood -4.89314273786\n",
      "EM iteration 12 log likelihood -4.89264729202\n",
      "EM iteration 13 log likelihood -4.89254411976\n",
      "EM iteration 14 log likelihood -4.89251051942\n",
      "EM iteration 15 log likelihood -4.89249752883\n",
      "EM iteration 16 log likelihood -4.89249208957\n",
      "EM iteration 17 log likelihood -4.892489725\n",
      "EM iteration 18 log likelihood -4.89248867913\n",
      "EM iteration 19 log likelihood -4.89248821289\n",
      "EM iteration 20 log likelihood -4.89248800429\n",
      "EM iteration 21 log likelihood -4.89248791082\n",
      "EM iteration 22 log likelihood -4.89248786891\n",
      "EM iteration 23 log likelihood -4.89248785011\n",
      "EM iteration 24 log likelihood -4.89248784167\n",
      "EM iteration 25 log likelihood -4.89248783789\n",
      "EM iteration 26 log likelihood -4.89248783619\n",
      "EM iteration 27 log likelihood -4.89248783543\n",
      "EM iteration 28 log likelihood -4.89248783509\n",
      "EM iteration 29 log likelihood -4.89248783493\n",
      "EM iteration 30 log likelihood -4.89248783486\n",
      "EM iteration 31 log likelihood -4.89248783483\n",
      "EM iteration 32 log likelihood -4.89248783482\n",
      "EM iteration 33 log likelihood -4.89248783481\n",
      "EM iteration 34 log likelihood -4.89248783481\n",
      "EM iteration 35 log likelihood -4.89248783481\n",
      "EM iteration 36 log likelihood -4.89248783481\n",
      "EM iteration 37 log likelihood -4.89248783481\n",
      "EM iteration 38 log likelihood -4.89248783481\n",
      "EM iteration 39 log likelihood -4.89248783481\n",
      "EM iteration 40 log likelihood -4.89248783481\n",
      "EM iteration 41 log likelihood -4.89248783481\n",
      "EM iteration 42 log likelihood -4.89248783481\n",
      "EM iteration 43 log likelihood -4.89248783481\n",
      "EM iteration 44 log likelihood -4.89248783481\n",
      "EM iteration 45 log likelihood -4.89248783481\n",
      "EM iteration 46 log likelihood -4.89248783481\n",
      "means\n",
      "[[ 20.17616372  20.10495483]\n",
      " [  0.55028729   0.24270613]\n",
      " [ 10.42763398  10.08947908]]\n",
      "cov\n",
      "[[  1.56528671   1.16578162]\n",
      " [ 11.72654367   0.96289314]\n",
      " [  1.79180735  12.50706948]]\n",
      "cluster priors\n",
      "[ 0.33333333  0.3434805   0.32318616]\n"
     ]
    },
    {
     "data": {
      "image/png": "[encoded data removed]",
      "text/plain": [
       "<matplotlib.figure.Figure at 0x7f46ba6c3588>"
      ]
     },
     "metadata": {},
     "output_type": "display_data"
    }
   ],
   "source": [
    "n_samples = 25\n",
    "np.random.seed(0)\n",
    "\n",
    "def MVN(shear, shift):\n",
    "    rs = np.random.randn(n_samples, 2)\n",
    "    return np.dot(rs, shear.T) + shift\n",
    "G1 = MVN(np.identity(2), np.array([20, 20]))\n",
    "G2 = MVN(np.array([[0., 3.5], [-0.7, .7]]), np.zeros(2))\n",
    "G3 = MVN(np.array([[-1, 0.8], [0, 4]]), np.array([10, 8]))\n",
    "\n",
    "# concatenate the two datasets into the final training set\n",
    "X = np.vstack([G1, G2, G3])\n",
    "rx = np.random.choice(range(len(X)), 3, replace=False)\n",
    "\n",
    "# http://scikit-learn.org/stable/auto_examples/mixture/plot_gmm_pdf.html\n",
    "_, m, s, a = fit_em(X, X[rx], 100, EPS)\n",
    "x = np.linspace(-20.0, 30.0)\n",
    "y = np.linspace(-20.0, 40.0)\n",
    "xx, yy = np.meshgrid(x, y)\n",
    "pts = np.array([xx.ravel(), yy.ravel()]).T\n",
    "ll = -estep(pts, m, s, a)[0].eval()\n",
    "print('means\\n{}\\ncov\\n{}\\ncluster priors\\n{}'.format(m, s, a))\n",
    "CS = plt.contour(xx, yy, ll.reshape(xx.shape), norm=LogNorm(vmin=1.0, vmax=1000.0),\n",
    "                levels=np.logspace(0, 3, 20))\n",
    "plt.colorbar(CS, shrink=0.8, extend='both')\n",
    "plt.scatter(X[:, 0], X[:, 1])\n",
    "plt.show()"
   ]
  },
  {
   "cell_type": "code",
   "execution_count": 144,
   "metadata": {
    "collapsed": false
   },
   "outputs": [
    {
     "name": "stdout",
     "output_type": "stream",
     "text": [
      "y = -10.0\n",
      "y = 0.0\n",
      "y = 2.5\n",
      "y = 10.0\n",
      "y = 20.0\n"
     ]
    },
    {
     "data": {
      "image/png": "[encoded data removed]",
      "text/plain": [
       "<matplotlib.figure.Figure at 0x7f46ba037d30>"
      ]
     },
     "metadata": {},
     "output_type": "display_data"
    }
   ],
   "source": [
    "# Make this into a nice image.\n",
    "ys = [-10, 0, 2.5, 10, 20]\n",
    "pts = np.arange(-20, 30, 0.1, dtype='float64').reshape(-1, 1)\n",
    "ys = np.array(ys, dtype='float64').reshape(-1, 1)\n",
    "# Reverse m, s, a, since we know 'y'\n",
    "mr, sr = (x[:, ::-1] for x in (m, s))\n",
    "mm, sm, ams = marginal_posterior(ys, mr, sr, a)\n",
    "for i, y in enumerate(ys.reshape(-1)):\n",
    "    print('y =', y)\n",
    "    ll = estep(pts, mm, sm, ams[i])[0].eval().reshape(-1)\n",
    "    plt.plot(pts, np.exp(ll) / 10 + y)\n",
    "    #plt.show()\n",
    "\n",
    "ys = np.arange(-20, 30, 0.05, dtype='float64').reshape(-1, 1)\n",
    "mm, sm, ams = marginal_posterior(ys, mr, sr, a)\n",
    "xs = [argmax_exp(mm, sm, am) for am in ams]\n",
    "plt.plot(xs, ys, label='argmax cluster mu')\n",
    "plt.legend(bbox_to_anchor=(1.05, 1), loc=2, borderaxespad=0.)\n",
    "plt.show()"
   ]
  },
  {
   "cell_type": "code",
   "execution_count": 145,
   "metadata": {
    "collapsed": false
   },
   "outputs": [
    {
     "name": "stdout",
     "output_type": "stream",
     "text": [
      "(6, 379551)\n"
     ]
    }
   ],
   "source": [
    "# N = 10\n",
    "N = 33\n",
    "p = 20 # D is better?\n",
    "K = 6\n",
    "k = 0 # maximum band offset (0 is just diagonal)\n",
    "tissues_to_cluster = train_tissues\n",
    "X_np = train_df_imp[train_tissues].values.transpose()\n",
    "\n",
    "np.random.seed(2)\n",
    "rc = np.random.choice(range(len(train_df)), D, replace=False)\n",
    "rmu = np.random.choice(range(N), K, replace=False)\n",
    "\n",
    "np.random.shuffle(X_np)\n",
    "per = N // K\n",
    "splits = [X_np[i:i+per] for i in range(0, N // K * K, per)]\n",
    "\n",
    "\n",
    "# X_trunc = X_np[:N, rc]\n",
    "X_trunc = X_np[:N]\n",
    "mu_init = X_trunc[rmu]\n",
    "# mu_init = np.array([x.mean(axis=0) for x in splits])\n",
    "#mu_init = X_np[19:22]\n",
    "\n",
    "\n",
    "print(mu_init.shape)"
   ]
  },
  {
   "cell_type": "code",
   "execution_count": 146,
   "metadata": {
    "collapsed": false
   },
   "outputs": [
    {
     "name": "stdout",
     "output_type": "stream",
     "text": [
      "EM iteration 0 log likelihood 113121.131914\n",
      "EM iteration 1 log likelihood 43683.1537127\n",
      "EM iteration 2 log likelihood 54501.1605309\n",
      "EM iteration 3 log likelihood 55339.0768389\n",
      "EM iteration 4 log likelihood 55339.0768389\n",
      "mean log likelihood\n",
      "55339.07683885468\n",
      "means\n",
      "[[ 0.87500975  0.90780635  0.92082692 ...,  0.89510721  0.83983662\n",
      "   0.91930058]\n",
      " [ 0.52923078  0.75415283  0.8416149  ...,  0.66774891  0.55208333\n",
      "   0.8415533 ]\n",
      " [ 0.69746529  0.68127254  0.86028262 ...,  0.71703812  0.62356656\n",
      "   0.83343904]\n",
      " [ 0.73969412  0.79942736  0.86677642 ...,  0.83031859  0.71978106\n",
      "   0.86569767]\n",
      " [ 0.          0.          0.         ...,  0.          0.          0.        ]\n",
      " [ 0.62100853  0.67671729  0.74663413 ...,  0.71413565  0.58004322\n",
      "   0.79597565]]\n",
      "cov\n",
      "[[ 0.11729774  0.10767352  0.10090257 ...,  0.10574835  0.10874412\n",
      "   0.10365791]\n",
      " [ 0.10008521  0.11060695  0.10024112 ...,  0.10216568  0.10531684\n",
      "   0.10129583]\n",
      " [ 0.10203085  0.10799575  0.10095342 ...,  0.10102485  0.1026011\n",
      "   0.10563043]\n",
      " [ 0.11886565  0.11328439  0.10596786 ...,  0.10621123  0.10808328\n",
      "   0.10403914]\n",
      " [ 0.1         0.1         0.1        ...,  0.1         0.1         0.1       ]\n",
      " [ 0.10250668  0.10275936  0.12064317 ...,  0.10809597  0.10198239\n",
      "   0.11874183]]\n",
      "cluster priors\n",
      "[ 0.42424242  0.06060606  0.12121212  0.27272727  0.03030303  0.09090909]\n"
     ]
    }
   ],
   "source": [
    "## Implement custom GMM\n",
    "#todo check float32/float64 conversion for speedup\n",
    "#todo scale (standardize) data before running\n",
    "#todo kmeans warmup (just in numpy?)\n",
    "#todo mincovar\n",
    "lp, m, s, a = fit_em(X_trunc, mu_init, 100, EPS)\n",
    "print('mean log likelihood\\n{}\\nmeans\\n{}\\ncov\\n{}\\ncluster priors\\n{}'\n",
    "      .format(lp, m, s, a))"
   ]
  },
  {
   "cell_type": "code",
   "execution_count": 147,
   "metadata": {
    "collapsed": false
   },
   "outputs": [],
   "source": [
    "o = np.ones(len(train_df))\n",
    "o[train_ix] = 0\n",
    "o[test_ix] = 0\n",
    "unobserved_untested_ix = np.where(o)[0]\n",
    "o = np.zeros(len(train_df))\n",
    "o[test_ix] = 1\n",
    "unobserved_tested_ix = np.where(o)[0]"
   ]
  },
  {
   "cell_type": "code",
   "execution_count": 148,
   "metadata": {
    "collapsed": false
   },
   "outputs": [],
   "source": [
    "perm = np.hstack((train_ix, unobserved_tested_ix, unobserved_untested_ix))"
   ]
  },
  {
   "cell_type": "code",
   "execution_count": 149,
   "metadata": {
    "collapsed": false
   },
   "outputs": [
    {
     "data": {
      "text/plain": [
       "(379551, 379551)"
      ]
     },
     "execution_count": 149,
     "metadata": {},
     "output_type": "execute_result"
    }
   ],
   "source": [
    "observed = test_df['filled'][train_ix].values\n",
    "len(perm), len(train_df)"
   ]
  },
  {
   "cell_type": "code",
   "execution_count": 150,
   "metadata": {
    "collapsed": false
   },
   "outputs": [
    {
     "name": "stdout",
     "output_type": "stream",
     "text": [
      "379551 379551 6\n",
      "[[ 0.6888889   0.8518519   0.14666666 ...,  0.877193    0.9259259\n",
      "   0.41666666]]\n",
      "(7523,)\n",
      "(6, 372028) (6, 372028) (1, 6)\n",
      "[ 0.87500975  0.90780635  0.92082692 ...,  0.89510721  0.83983662\n",
      "  0.91930058]\n",
      "368411 368411\n",
      "rmse 0.07630200512736934\n",
      "r2 0.796397458062\n"
     ]
    }
   ],
   "source": [
    "mm, ms = (x[:, perm] for x in (m, s))\n",
    "print(len(mm[0]), len(ms[0]), len(a))\n",
    "print(observed.reshape(1, len(observed)))\n",
    "print(observed.shape)\n",
    "mm, sm, ams = marginal_posterior(observed.reshape(1, len(observed)), mm, ms, a)\n",
    "print(mm.shape, sm.shape, ams.shape)\n",
    "pred = argmax_exp(mm, sm, ams[0])[:len(unobserved_tested_ix)]\n",
    "print(pred)\n",
    "actual = test_df['filled'][unobserved_tested_ix]\n",
    "print(len(pred), len(actual))\n",
    "print('rmse', math.sqrt(actual.sub(pred).pow(2).mean())) # rmse of GMM\n",
    "print('r2', sklearn.metrics.r2_score(actual, pred))"
   ]
  }
 ],
 "metadata": {
  "kernelspec": {
   "display_name": "Python 3",
   "language": "python",
   "name": "python3"
  },
  "language_info": {
   "codemirror_mode": {
    "name": "ipython",
    "version": 3
   },
   "file_extension": ".py",
   "mimetype": "text/x-python",
   "name": "python",
   "nbconvert_exporter": "python",
   "pygments_lexer": "ipython3",
   "version": "3.5.1+"
  }
 },
 "nbformat": 4,
 "nbformat_minor": 0
}
