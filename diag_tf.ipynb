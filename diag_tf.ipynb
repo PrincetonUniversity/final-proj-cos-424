{
 "cells": [
  {
   "cell_type": "code",
   "execution_count": 4,
   "metadata": {
    "collapsed": false
   },
   "outputs": [
    {
     "name": "stdout",
     "output_type": "stream",
     "text": [
      "Idempotent data loading. For a given chromosome n (a string).\n",
      "    \n",
      "    Returns (train_df, test_df, train_ix, test_ix, train_tissues, tfs)\n",
      "    \n",
      "    The first two are the train and test dataframes, and test_ix are the\n",
      "    values in test_df['assayed'] that are missing and need to be imputed (with the\n",
      "    correct answer being in test_df['filled'] in the corresponding locations.\n",
      "    train_ix are the assayed (known) methylation values from limited microarray\n",
      "    sampling (e.g., test_df['assayed'].iloc[train_ix] can be used for prediction of\n",
      "    test_df['filled'].iloc[test_ix], and the former should be about equal to\n",
      "    test_df['filled'].iloc[train_ix] (two different ways of sampling methylation).\n",
      "    \n",
      "    Imports genetic context and adds those columns to the parameter df, returning\n",
      "    a merged one. tfs is the list of names of new transcription\n",
      "    factors.\n",
      "    \n",
      "    train_tissues is a list of the names of columns with chromosome methylation values.\n",
      "    \n",
      "    Note that loading from scratch may take ~5 min (for merging genetic contexts).\n"
     ]
    }
   ],
   "source": [
    "# Imports\n",
    "\n",
    "%matplotlib inline\n",
    "import matplotlib.pyplot as plt\n",
    "from matplotlib.colors import LogNorm\n",
    "import tensorflow as tf\n",
    "import numpy as np\n",
    "import pandas as pd\n",
    "from itertools import *\n",
    "import sklearn\n",
    "import math\n",
    "import random\n",
    "import sys\n",
    "import multiprocessing\n",
    "nproc = max(1, multiprocessing.cpu_count() - 1)\n",
    "\n",
    "if 'utils' not in sys.path:\n",
    "    sys.path.append('utils')\n",
    "\n",
    "import data_loader\n",
    "\n",
    "# Warnings\n",
    "\n",
    "import warnings\n",
    "warnings.filterwarnings('ignore')\n",
    "\n",
    "# Idempotent, cached data retrieval script\n",
    "\n",
    "print(data_loader.load_chromosome.__doc__)\n",
    "train_df, test_df, train_ix, test_ix, train_tissues, tfs = \\\n",
    "    data_loader.load_chromosome_cached('1')\n",
    "    \n",
    "sess = tf.InteractiveSession()"
   ]
  },
  {
   "cell_type": "code",
   "execution_count": 5,
   "metadata": {
    "collapsed": false,
    "scrolled": false
   },
   "outputs": [
    {
     "name": "stdout",
     "output_type": "stream",
     "text": [
      "nans in mean-imputed 0\n",
      "nans in interpolated 0\n"
     ]
    }
   ],
   "source": [
    "# Perhaps there are obvious sequence trends?\n",
    "def local_impute(data):\n",
    "    #http://stackoverflow.com/questions/9537543/replace-nans-in-numpy-array-with-closest-non-nan-value\n",
    "    mask = np.isnan(data)\n",
    "    data[mask] = np.interp(np.flatnonzero(mask), np.flatnonzero(~mask), data[~mask])\n",
    "    return data\n",
    "\n",
    "# Do mean imputation on our training data.\n",
    "def mean_impute(data):\n",
    "    mask = np.isnan(data)\n",
    "    data[mask] = float(data.mean()) # just = m messes with serialization\n",
    "    return data\n",
    "train_df_imp = train_df\n",
    "train_df_int = train_df\n",
    "for i in train_tissues:\n",
    "    train_df_imp[i] = mean_impute(train_df[i].copy())\n",
    "    train_df_int[i] = local_impute(train_df[i].copy())\n",
    "print('nans in mean-imputed', np.isnan(train_df_imp[train_tissues]).sum().sum())\n",
    "print('nans in interpolated', np.isnan(train_df_int[train_tissues]).sum().sum())"
   ]
  },
  {
   "cell_type": "code",
   "execution_count": 6,
   "metadata": {
    "collapsed": true
   },
   "outputs": [],
   "source": [
    "# Copied pretty much directly from sklearn\n",
    "\n",
    "# Returns a TensorFlow scalar with the size of the i-th dimension for\n",
    "# the parameter tensor x.\n",
    "def tf_get_shape(x, i):\n",
    "    return tf.squeeze(tf.slice(tf.shape(x), [i], [1])) \n",
    "\n",
    "def tf_nrows(x):\n",
    "    return tf_get_shape(x, 0)\n",
    "\n",
    "def tf_ncols(x):\n",
    "    return tf_get_shape(x, 1)\n",
    "\n",
    "# Simultaneous K-cluster likelihood computation.\n",
    "# X is NxD, mus is KxD, sigmas is KxD\n",
    "# Output is KxN likelihoods for each sample in each cluster.\n",
    "def tf_log_normals(X, mus, sigmas):\n",
    "    # p(X) = sqrt(a * b * c)\n",
    "    # a = (2 pi)^(-p)\n",
    "    # b = det(sigma)^(-1)\n",
    "    # c = exp(-(x - mu)^T sigma^(-1) (x - mu)) [expanded for numerical stability]\n",
    "    #\n",
    "    # Below we make simplifications since sigma is diag\n",
    "    \n",
    "    D = tf_ncols(mus)\n",
    "    XT = tf.transpose(X) # pxN\n",
    "    invsig = tf.inv(sigmas)\n",
    "    \n",
    "    loga = -tf.cast(D, 'float64') * tf.log(tf.constant(2 * np.pi, dtype='float64')) # scalar\n",
    "    logb = tf.reduce_sum(tf.log(invsig), 1, keep_dims=True) # Kx1\n",
    "    logc =  \\\n",
    "        - tf.reduce_sum(invsig * tf.square(mus), 1, keep_dims=True) \\\n",
    "        + 2 * tf.matmul(invsig * mus, XT) \\\n",
    "        - tf.matmul(invsig, tf.square(XT)) # KxN\n",
    "    return 0.5 * (loga + logb + logc)\n",
    "\n",
    "# Stably log-sum-exps likelihood along rows.\n",
    "# Reduces KxN tensor L to 1xN tensor\n",
    "def tf_log_sum_exp(L):\n",
    "    maxs = tf.reduce_max(L, 0, keep_dims=True) # 1xN\n",
    "    return tf.log(tf.reduce_sum(tf.exp(L - maxs), 0, keep_dims=True)) + maxs\n",
    "\n",
    "# X is NxD, mus is KxD, sigmas KxD, alphas is K\n",
    "# output is KxN log likelihoods.\n",
    "def tf_log_likelihood(X, mus, sigmas, alphas):\n",
    "    alphas = tf.expand_dims(alphas, 1) # Kx1\n",
    "    return tf_log_normals(X, mus, sigmas) + tf.log(alphas) # KxN\n",
    "\n",
    "# X is NxD, mus is KxD, sigmas KxD, alphas is K\n",
    "# output is 1xN log probability for each sample, KxN responsibilities\n",
    "def estep(X, mus, sigmas, alphas):\n",
    "    log_likelihoods = tf_log_likelihood(X, mus, sigmas, alphas)\n",
    "    sample_log_prob = tf_log_sum_exp(log_likelihoods) # 1xN\n",
    "    return sample_log_prob, tf.exp(log_likelihoods - sample_log_prob)\n",
    "\n",
    "EPS = np.finfo(float).eps\n",
    "MIN_COVAR = EPS\n",
    "# X is NxD, resp is KxN (and normalized along axis 0)\n",
    "# Returns maximize step means, covariance, and cluster priors,\n",
    "# which have dimension KxD, KxD, and K, respectively\n",
    "def mstep(X, resp):\n",
    "    weights = tf.reduce_sum(resp, 1) # K\n",
    "    invweights = tf.expand_dims(tf.inv(weights + 10 * EPS), 1) # Kx1\n",
    "    alphas = EPS + weights / (tf.reduce_sum(weights) + 10 * EPS) # K\n",
    "    weighted_cluster_sum = tf.matmul(resp, X) # KxD \n",
    "    mus = weighted_cluster_sum * invweights\n",
    "    avg_X2 = tf.matmul(resp, tf.square(X)) * invweights\n",
    "    avg_mu2 = tf.square(mus)\n",
    "    avg_X_mu = mus * weighted_cluster_sum * invweights\n",
    "    sigmas = avg_X2 - 2 * avg_X_mu + avg_mu2 + MIN_COVAR\n",
    "    # (x - mu) (x-mu)^T for banded. \n",
    "    return mus, sigmas, alphas"
   ]
  },
  {
   "cell_type": "code",
   "execution_count": 7,
   "metadata": {
    "collapsed": false
   },
   "outputs": [
    {
     "name": "stdout",
     "output_type": "stream",
     "text": [
      "actual likelihoods [[ 0.06259574  0.0734833   0.15574122  0.11125043  0.0430546 ]\n",
      " [ 0.82313074  0.37449049  0.56607669  0.77519515  0.09874195]\n",
      " [ 0.11427352  0.55202621  0.27818209  0.11355442  0.85820345]]\n",
      "log likelihoods    [[ 0.06259574  0.0734833   0.15574122  0.11125043  0.0430546 ]\n",
      " [ 0.82313074  0.37449049  0.56607669  0.77519515  0.09874195]\n",
      " [ 0.11427352  0.55202621  0.27818209  0.11355442  0.85820345]]\n",
      "K=0 rmse=1.4859605247919496e-16\n",
      "K=1 rmse=2.397284912990425e-16\n",
      "K=2 rmse=2.7265526925652344e-16\n"
     ]
    }
   ],
   "source": [
    "# Make sure N, D are small so the numerically unstable verification code\n",
    "# doesn't underflow.\n",
    "N = 5\n",
    "D = 10\n",
    "\n",
    "X = np.random.normal(size=(N, D))\n",
    "mu = X.mean(axis=0)\n",
    "sigma = X.std(axis=0)\n",
    "mus = np.array([mu, mu, mu * 2])\n",
    "sigmas = np.array([sigma, sigma * 2, sigma])\n",
    "K = len(sigmas)\n",
    "alphas = np.random.dirichlet(np.ones(K), 1)[0]\n",
    "\n",
    "mean_ll, resp = sess.run(estep(*(tf.constant(x) for x in (X, mus, sigmas, alphas))))\n",
    "def normal_likelihoods(X, mu, sigma):\n",
    "    exponent = -np.dot((X - mu[np.newaxis, :]) ** 2, 1 / sigma) / 2\n",
    "    return (2 * np.pi) ** (-D / 2) * np.prod(sigma) ** (-1 / 2) * np.exp(exponent)\n",
    "actual = np.array([normal_likelihoods(X, mu, sigma) for mu, sigma in zip(mus, sigmas)])\n",
    "actual = sklearn.preprocessing.normalize(actual * alphas[:, np.newaxis], norm='l1', axis=0)\n",
    "resp = sklearn.preprocessing.normalize(resp, norm='l1', axis=0)\n",
    "print('actual likelihoods', actual)\n",
    "print('log likelihoods   ', resp)\n",
    "rmses = np.sqrt(sklearn.metrics.mean_squared_error(actual.T, resp.T, multioutput='raw_values'))\n",
    "for i, rmse in enumerate(rmses):\n",
    "    print('K={} rmse={}'.format(i, rmse))"
   ]
  },
  {
   "cell_type": "code",
   "execution_count": 29,
   "metadata": {
    "collapsed": true
   },
   "outputs": [],
   "source": [
    "# Similar pattern to\n",
    "# https://gist.github.com/narphorium/d06b7ed234287e319f18\n",
    "\n",
    "#todo try initializing covar to emprical cv computed from kmeans labels\n",
    "\n",
    "# Runs up to max_steps EM iterations, stopping earlier if log likelihood improves\n",
    "# less than tol.\n",
    "# X should be an NxD data matrix, initial_mus should be KxD\n",
    "# max_steps should be an int, tol should be a float.\n",
    "def fit_em(X, initial_mus, max_steps, tol):\n",
    "    N, D = X.shape\n",
    "    K, Dmu = initial_mus.shape\n",
    "    assert D == Dmu\n",
    "        \n",
    "    mus0 = initial_mus\n",
    "    sigmas0 = np.tile(np.var(X, axis=0), (K, 1))\n",
    "    alphas0 = np.ones(K)\n",
    "    X = tf.constant(X)\n",
    "    \n",
    "    mus, sigmas, alphas = (tf.Variable(x, dtype='float64') for x in [mus0, sigmas0, alphas0])\n",
    "        \n",
    "    all_ll, resp = estep(X, mus, sigmas, alphas)\n",
    "    cmus, csigmas, calphas = mstep(X, resp)\n",
    "    update_mus_step = tf.assign(mus, cmus)\n",
    "    update_sigmas_step = tf.assign(sigmas, csigmas)\n",
    "    update_alphas_step = tf.assign(alphas, calphas)     \n",
    "    \n",
    "    init_op = tf.initialize_all_variables()\n",
    "    ll = prev_ll = -np.inf\n",
    "                         \n",
    "    with tf.Session() as sess:\n",
    "        sess.run(init_op)\n",
    "        for i in range(max_steps):\n",
    "            ll = sess.run(tf.reduce_mean(all_ll))\n",
    "            sess.run((update_mus_step, update_sigmas_step, update_alphas_step))\n",
    "            print('EM iteration', i, 'log likelihood', ll)\n",
    "            if abs(ll - prev_ll) < tol:\n",
    "                print('Converged in', i, 'iterations')\n",
    "                break\n",
    "            prev_ll = ll\n",
    "        m, s, a = sess.run((mus, sigmas, alphas))\n",
    "    \n",
    "    return ll, m, s, a"
   ]
  },
  {
   "cell_type": "code",
   "execution_count": 47,
   "metadata": {
    "collapsed": false
   },
   "outputs": [],
   "source": [
    "# Given a partial observation x of dimension O < D for a fitted GMM model with \n",
    "# K cluster priors alpha, KxD means mus, and KxD diagonal covariances sigmas,\n",
    "# returns the weighted sum of normals for the remaining D - O dimensions.\n",
    "#\n",
    "# Returns posterior_prior, posterior_mus, posterior_sigmas.\n",
    "def marginal_posterior(x, mus, sigmas, alphas):\n",
    "    # https://gbhqed.wordpress.com/2010/02/21/conditional-and-marginal-distributions-of-a-multivariate-gaussian/\n",
    "    # diagonal case is easy:\n",
    "    # https://en.wikipedia.org/wiki/Schur_complement#Applications_to_probability_theory_and_statistics\n",
    "    O = len(x)\n",
    "    D = len(mu)\n",
    "    observed_mus, observed_sigmas = (tf.constant(a, dtype='float64')\n",
    "                                     for a in (mus[:,0:O], sigmas[:, 0:O]))\n",
    "    x = np.array(x, dtype='float64').reshape(1, O)\n",
    "    observed_likelihood = tf.exp(tf_log_likelihood(x, observed_mus, observed_sigmas, alphas)).eval() # Kx1\n",
    "    sklearn.preprocessing.normalize(observed_likelihood, norm='l1', axis=0, copy=False)\n",
    "    return mus[:, O:D], sigmas[:, O:D], observed_likelihood.reshape(-1)"
   ]
  },
  {
   "cell_type": "code",
   "execution_count": 31,
   "metadata": {
    "collapsed": false
   },
   "outputs": [
    {
     "name": "stdout",
     "output_type": "stream",
     "text": [
      "EM iteration 0 log likelihood -6.25336924125\n",
      "EM iteration 1 log likelihood -6.47467678494\n",
      "EM iteration 2 log likelihood -6.24674774385\n",
      "EM iteration 3 log likelihood -5.97248623094\n",
      "EM iteration 4 log likelihood -5.76790958396\n",
      "EM iteration 5 log likelihood -5.58112689263\n",
      "EM iteration 6 log likelihood -5.33878066436\n",
      "EM iteration 7 log likelihood -5.15980763038\n",
      "EM iteration 8 log likelihood -4.99778837824\n",
      "EM iteration 9 log likelihood -4.92989800906\n",
      "EM iteration 10 log likelihood -4.89466501232\n",
      "EM iteration 11 log likelihood -4.89062020699\n",
      "EM iteration 12 log likelihood -4.89026156177\n",
      "EM iteration 13 log likelihood -4.89018691658\n",
      "EM iteration 14 log likelihood -4.89016792669\n",
      "EM iteration 15 log likelihood -4.89016267811\n",
      "EM iteration 16 log likelihood -4.89016116864\n",
      "EM iteration 17 log likelihood -4.89016072562\n",
      "EM iteration 18 log likelihood -4.89016059419\n",
      "EM iteration 19 log likelihood -4.89016055498\n",
      "EM iteration 20 log likelihood -4.89016054324\n",
      "EM iteration 21 log likelihood -4.89016053972\n",
      "EM iteration 22 log likelihood -4.89016053867\n",
      "EM iteration 23 log likelihood -4.89016053835\n",
      "EM iteration 24 log likelihood -4.89016053825\n",
      "EM iteration 25 log likelihood -4.89016053822\n",
      "EM iteration 26 log likelihood -4.89016053822\n",
      "EM iteration 27 log likelihood -4.89016053821\n",
      "EM iteration 28 log likelihood -4.89016053821\n",
      "EM iteration 29 log likelihood -4.89016053821\n",
      "EM iteration 30 log likelihood -4.89016053821\n",
      "EM iteration 31 log likelihood -4.89016053821\n",
      "EM iteration 32 log likelihood -4.89016053821\n",
      "EM iteration 33 log likelihood -4.89016053821\n",
      "EM iteration 34 log likelihood -4.89016053821\n",
      "EM iteration 35 log likelihood -4.89016053821\n",
      "EM iteration 36 log likelihood -4.89016053821\n",
      "EM iteration 37 log likelihood -4.89016053821\n",
      "EM iteration 38 log likelihood -4.89016053821\n",
      "EM iteration 39 log likelihood -4.89016053821\n",
      "Converged in 39 iterations\n",
      "means\n",
      "[[ 20.17616371  20.10495483]\n",
      " [  0.53687504   0.23774479]\n",
      " [ 10.42055163  10.07351857]]\n",
      "cov\n",
      "[[  1.46528671   1.06578162]\n",
      " [ 11.56134039   0.85248074]\n",
      " [  1.71172277  12.49839639]]\n",
      "cluster priors\n",
      "[ 0.33333333  0.34278281  0.32388386]\n"
     ]
    },
    {
     "data": {
      "image/png": "[encoded data removed]",
      "text/plain": [
       "<matplotlib.figure.Figure at 0x7fc165117cf8>"
      ]
     },
     "metadata": {},
     "output_type": "display_data"
    }
   ],
   "source": [
    "n_samples = 25\n",
    "np.random.seed(0)\n",
    "\n",
    "def MVN(shear, shift):\n",
    "    rs = np.random.randn(n_samples, 2)\n",
    "    return np.dot(rs, shear.T) + shift\n",
    "G1 = MVN(np.identity(2), np.array([20, 20]))\n",
    "G2 = MVN(np.array([[0., 3.5], [-0.7, .7]]), np.zeros(2))\n",
    "G3 = MVN(np.array([[-1, 0.8], [0, 4]]), np.array([10, 8]))\n",
    "\n",
    "# concatenate the two datasets into the final training set\n",
    "X = np.vstack([G1, G2, G3])\n",
    "rx = np.random.choice(range(len(X)), 3, replace=False)\n",
    "\n",
    "# http://scikit-learn.org/stable/auto_examples/mixture/plot_gmm_pdf.html\n",
    "_, m, s, a = fit_em(X, X[rx], 100, EPS)\n",
    "x = np.linspace(-20.0, 30.0)\n",
    "y = np.linspace(-20.0, 40.0)\n",
    "xx, yy = np.meshgrid(x, y)\n",
    "pts = np.array([xx.ravel(), yy.ravel()]).T\n",
    "ll = -estep(pts, m, s, a)[0].eval()\n",
    "print('means\\n{}\\ncov\\n{}\\ncluster priors\\n{}'.format(m, s, a))\n",
    "CS = plt.contour(xx, yy, ll.reshape(xx.shape), norm=LogNorm(vmin=1.0, vmax=1000.0),\n",
    "                levels=np.logspace(0, 3, 20))\n",
    "plt.colorbar(CS, shrink=0.8, extend='both')\n",
    "plt.scatter(X[:, 0], X[:, 1])\n",
    "plt.show()"
   ]
  },
  {
   "cell_type": "code",
   "execution_count": 64,
   "metadata": {
    "collapsed": false
   },
   "outputs": [
    {
     "name": "stdout",
     "output_type": "stream",
     "text": [
      "y = -10\n"
     ]
    },
    {
     "data": {
      "image/png": "[encoded data removed]",
      "text/plain": [
       "<matplotlib.figure.Figure at 0x7fc1649df6d8>"
      ]
     },
     "metadata": {},
     "output_type": "display_data"
    },
    {
     "name": "stdout",
     "output_type": "stream",
     "text": [
      "y = 0\n"
     ]
    },
    {
     "data": {
      "image/png": "[encoded data removed]",
      "text/plain": [
       "<matplotlib.figure.Figure at 0x7fc12ff0ee48>"
      ]
     },
     "metadata": {},
     "output_type": "display_data"
    },
    {
     "name": "stdout",
     "output_type": "stream",
     "text": [
      "y = 10\n"
     ]
    },
    {
     "data": {
      "image/png": "[encoded data removed]",
      "text/plain": [
       "<matplotlib.figure.Figure at 0x7fc12fdda9b0>"
      ]
     },
     "metadata": {},
     "output_type": "display_data"
    },
    {
     "name": "stdout",
     "output_type": "stream",
     "text": [
      "y = 20\n"
     ]
    },
    {
     "data": {
      "image/png": "[encoded data removed]",
      "text/plain": [
       "<matplotlib.figure.Figure at 0x7fc12fcd53c8>"
      ]
     },
     "metadata": {},
     "output_type": "display_data"
    },
    {
     "name": "stdout",
     "output_type": "stream",
     "text": [
      "y = 30\n"
     ]
    },
    {
     "data": {
      "image/png": "[encoded data removed]",
      "text/plain": [
       "<matplotlib.figure.Figure at 0x7fc12fc20908>"
      ]
     },
     "metadata": {},
     "output_type": "display_data"
    }
   ],
   "source": [
    "y = [-10, 0, 10, 20, 30]\n",
    "pts = np.arange(-20, 30, 0.1, dtype='float64').reshape(-1, 1)\n",
    "for i in y:\n",
    "    print('y =', i)\n",
    "    mm, sm, am = marginal_posterior([i], m, s, a)\n",
    "    ll = estep(pts, mm, sm, am)[0].eval().reshape(-1)\n",
    "    plt.plot(pts, np.exp(ll))\n",
    "    plt.show()"
   ]
  },
  {
   "cell_type": "code",
   "execution_count": 30,
   "metadata": {
    "collapsed": true
   },
   "outputs": [],
   "source": [
    "N = 10\n",
    "p = 20 # D is better?\n",
    "K = 3\n",
    "k = 0 # maximum band offset (0 is just diagonal)\n",
    "tissues_to_cluster = train_tissues\n",
    "X_np = train_df_imp[train_tissues].values.transpose()\n",
    "\n",
    "np.random.seed(0)\n",
    "rc = np.random.choice(range(len(train_df)), D, replace=False)\n",
    "rmu = np.random.choice(range(N), K, replace=False)\n",
    "\n",
    "X_trunc = X_np[:N, rc]\n",
    "mu_init = X_trunc[rmu]"
   ]
  },
  {
   "cell_type": "code",
   "execution_count": 34,
   "metadata": {
    "collapsed": false
   },
   "outputs": [
    {
     "name": "stdout",
     "output_type": "stream",
     "text": [
      "EM iteration 0 log likelihood 10.5128845776\n",
      "EM iteration 1 log likelihood 14.3378001876\n",
      "EM iteration 2 log likelihood 15.2654497828\n",
      "EM iteration 3 log likelihood 16.0180952721\n",
      "EM iteration 4 log likelihood 16.1997659211\n",
      "EM iteration 5 log likelihood 16.1997659266\n",
      "EM iteration 6 log likelihood 16.1997659266\n",
      "EM iteration 7 log likelihood 16.1997659267\n",
      "EM iteration 8 log likelihood 16.1997659267\n",
      "EM iteration 9 log likelihood 16.1997659267\n",
      "EM iteration 10 log likelihood 16.1997659267\n",
      "EM iteration 11 log likelihood 16.1997659267\n",
      "EM iteration 12 log likelihood 16.1997659267\n",
      "EM iteration 13 log likelihood 16.1997659267\n",
      "EM iteration 14 log likelihood 16.1997659267\n",
      "EM iteration 15 log likelihood 16.1997659267\n",
      "EM iteration 16 log likelihood 16.1997659267\n",
      "EM iteration 17 log likelihood 16.1997659267\n",
      "EM iteration 18 log likelihood 16.1997659267\n",
      "EM iteration 19 log likelihood 16.1997659267\n",
      "EM iteration 20 log likelihood 16.1997659267\n",
      "EM iteration 21 log likelihood 16.1997659267\n",
      "EM iteration 22 log likelihood 16.1997659267\n",
      "EM iteration 23 log likelihood 16.1997659267\n",
      "EM iteration 24 log likelihood 16.1997659267\n",
      "EM iteration 25 log likelihood 16.1997659267\n",
      "EM iteration 26 log likelihood 16.1997659267\n",
      "EM iteration 27 log likelihood 16.1997659267\n",
      "EM iteration 28 log likelihood 16.1997659267\n",
      "EM iteration 29 log likelihood 16.1997659267\n",
      "EM iteration 30 log likelihood 16.1997659267\n",
      "EM iteration 31 log likelihood 16.1997659267\n",
      "EM iteration 32 log likelihood 16.1997659267\n",
      "EM iteration 33 log likelihood 16.1997659267\n",
      "EM iteration 34 log likelihood 16.1997659267\n",
      "EM iteration 35 log likelihood 16.1997659267\n",
      "EM iteration 36 log likelihood 16.1997659267\n",
      "EM iteration 37 log likelihood 16.1997659267\n",
      "EM iteration 38 log likelihood 16.1997659267\n",
      "EM iteration 39 log likelihood 16.1997659267\n",
      "EM iteration 40 log likelihood 16.1997659267\n",
      "EM iteration 41 log likelihood 16.1997659267\n",
      "EM iteration 42 log likelihood 16.1997659267\n",
      "EM iteration 43 log likelihood 16.1997659267\n",
      "EM iteration 44 log likelihood 16.1997659267\n",
      "EM iteration 45 log likelihood 16.1997659267\n",
      "EM iteration 46 log likelihood 16.1997659267\n",
      "EM iteration 47 log likelihood 16.1997659267\n",
      "EM iteration 48 log likelihood 16.1997659267\n",
      "EM iteration 49 log likelihood 16.1997659267\n",
      "EM iteration 50 log likelihood 16.1997659267\n",
      "EM iteration 51 log likelihood 16.1997659267\n",
      "EM iteration 52 log likelihood 16.1997659267\n",
      "EM iteration 53 log likelihood 16.1997659267\n",
      "EM iteration 54 log likelihood 16.1997659267\n",
      "EM iteration 55 log likelihood 16.1997659267\n",
      "EM iteration 56 log likelihood 16.1997659267\n",
      "EM iteration 57 log likelihood 16.1997659267\n",
      "EM iteration 58 log likelihood 16.1997659267\n",
      "EM iteration 59 log likelihood 16.1997659267\n",
      "EM iteration 60 log likelihood 16.1997659267\n",
      "EM iteration 61 log likelihood 16.1997659267\n",
      "EM iteration 62 log likelihood 16.1997659267\n",
      "EM iteration 63 log likelihood 16.1997659267\n",
      "EM iteration 64 log likelihood 16.1997659267\n",
      "EM iteration 65 log likelihood 16.1997659267\n",
      "EM iteration 66 log likelihood 16.1997659267\n",
      "EM iteration 67 log likelihood 16.1997659267\n",
      "EM iteration 68 log likelihood 16.1997659267\n",
      "EM iteration 69 log likelihood 16.1997659267\n",
      "EM iteration 70 log likelihood 16.1997659267\n",
      "EM iteration 71 log likelihood 16.1997659267\n",
      "EM iteration 72 log likelihood 16.1997659267\n",
      "EM iteration 73 log likelihood 16.1997659267\n",
      "EM iteration 74 log likelihood 16.1997659267\n",
      "EM iteration 75 log likelihood 16.1997659267\n",
      "EM iteration 76 log likelihood 16.1997659267\n",
      "EM iteration 77 log likelihood 16.1997659267\n",
      "EM iteration 78 log likelihood 16.1997659267\n",
      "EM iteration 79 log likelihood 16.1997659267\n",
      "EM iteration 80 log likelihood 16.1997659267\n",
      "EM iteration 81 log likelihood 16.1997659267\n",
      "EM iteration 82 log likelihood 16.1997659267\n",
      "EM iteration 83 log likelihood 16.1997659267\n",
      "EM iteration 84 log likelihood 16.1997659267\n",
      "EM iteration 85 log likelihood 16.1997659267\n",
      "EM iteration 86 log likelihood 16.1997659267\n",
      "EM iteration 87 log likelihood 16.1997659267\n",
      "EM iteration 88 log likelihood 16.1997659267\n",
      "EM iteration 89 log likelihood 16.1997659267\n",
      "EM iteration 90 log likelihood 16.1997659267\n",
      "EM iteration 91 log likelihood 16.1997659267\n",
      "EM iteration 92 log likelihood 16.1997659267\n",
      "EM iteration 93 log likelihood 16.1997659267\n",
      "EM iteration 94 log likelihood 16.1997659267\n",
      "EM iteration 95 log likelihood 16.1997659267\n",
      "EM iteration 96 log likelihood 16.1997659267\n",
      "EM iteration 97 log likelihood 16.1997659267\n",
      "EM iteration 98 log likelihood 16.1997659267\n",
      "EM iteration 99 log likelihood 16.1997659267\n",
      "mean log likelihood\n",
      "16.199765926655374\n",
      "means\n",
      "[[ 0.92912912  0.81499277  0.93233925  0.83803525  0.62031138  0.77143268\n",
      "   0.71414297  0.83492393  0.91197884  0.83439691]\n",
      " [ 0.88280041  0.94248897  0.92528227  0.7256843   0.75690596  0.63943841\n",
      "   0.1580863   0.89802631  0.92146621  0.19112534]\n",
      " [ 0.90201505  0.93680815  0.91578017  0.77935458  0.77115542  0.67857285\n",
      "   0.66375253  0.88984384  0.85507161  0.72499653]]\n",
      "cov\n",
      "[[  5.68509901e-04   1.13247996e-02   8.47153242e-04   2.41932553e-03\n",
      "    5.37048166e-03   9.45548504e-03   8.45937061e-02   5.74070731e-04\n",
      "    1.89724005e-03   3.08588260e-03]\n",
      " [  8.04225313e-04   6.14099288e-05   2.17830478e-04   1.45058934e-02\n",
      "    2.76646905e-03   1.88908001e-02   9.37753791e-04   1.11130728e-03\n",
      "    1.38778446e-03   2.51250379e-03]\n",
      " [  4.43619217e-04   4.06217572e-05   7.85970903e-07   5.59663036e-03\n",
      "    6.21671537e-03   5.10203990e-03   4.26892499e-02   1.39128394e-04\n",
      "    1.89036040e-03   3.06250000e-02]]\n",
      "cluster priors\n",
      "[ 0.40000397  0.4         0.19999603]\n"
     ]
    }
   ],
   "source": [
    "## Implement custom GMM\n",
    "#todo check float32/float64 conversion for speedup\n",
    "#todo scale (standardize) data before running\n",
    "#todo kmeans warmup (just in numpy?)\n",
    "#todo mincovar\n",
    "lp, m, s, a = fit_em(X_trunc, mu_init, 100, EPS)\n",
    "print('mean log likelihood\\n{}\\nmeans\\n{}\\ncov\\n{}\\ncluster priors\\n{}'\n",
    "      .format(lp, m, s, a))"
   ]
  }
 ],
 "metadata": {
  "kernelspec": {
   "display_name": "Python 3",
   "language": "python",
   "name": "python3"
  },
  "language_info": {
   "codemirror_mode": {
    "name": "ipython",
    "version": 3
   },
   "file_extension": ".py",
   "mimetype": "text/x-python",
   "name": "python",
   "nbconvert_exporter": "python",
   "pygments_lexer": "ipython3",
   "version": "3.5.1+"
  }
 },
 "nbformat": 4,
 "nbformat_minor": 0
}
