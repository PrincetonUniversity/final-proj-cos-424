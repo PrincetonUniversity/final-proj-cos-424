{
 "cells": [
  {
   "cell_type": "code",
   "execution_count": 2,
   "metadata": {
    "collapsed": false
   },
   "outputs": [
    {
     "name": "stdout",
     "output_type": "stream",
     "text": [
      "Idempotent data loading. For a given chromosome n (a string).\n",
      "    \n",
      "    Returns (train_df, test_df, train_ix, test_ix, train_tissues, tfs)\n",
      "    \n",
      "    The first two are the train and test dataframes, and test_ix are the\n",
      "    values in test_df['assayed'] that are missing and need to be imputed (with the\n",
      "    correct answer being in test_df['filled'] in the corresponding locations.\n",
      "    train_ix are the assayed (known) methylation values from limited microarray\n",
      "    sampling (e.g., test_df['assayed'].iloc[train_ix] can be used for prediction of\n",
      "    test_df['filled'].iloc[test_ix], and the former should be about equal to\n",
      "    test_df['filled'].iloc[train_ix] (two different ways of sampling methylation).\n",
      "    \n",
      "    Imports genetic context and adds those columns to the parameter df, returning\n",
      "    a merged one. tfs is the list of names of new transcription\n",
      "    factors.\n",
      "    \n",
      "    train_tissues is a list of the names of columns with chromosome methylation values.\n",
      "    \n",
      "    Note that loading from scratch may take ~5 min (for merging genetic contexts).\n"
     ]
    }
   ],
   "source": [
    "# Imports\n",
    "\n",
    "%matplotlib inline\n",
    "import matplotlib.pyplot as plt\n",
    "from matplotlib.colors import LogNorm\n",
    "import tensorflow as tf\n",
    "import numpy as np\n",
    "import pandas as pd\n",
    "from itertools import *\n",
    "import sklearn\n",
    "import math\n",
    "import random\n",
    "import sys\n",
    "import multiprocessing\n",
    "nproc = max(1, multiprocessing.cpu_count() - 1)\n",
    "\n",
    "if 'utils' not in sys.path:\n",
    "    sys.path.append('utils')\n",
    "\n",
    "import data_loader\n",
    "\n",
    "# Warnings\n",
    "\n",
    "import warnings\n",
    "warnings.filterwarnings('ignore')\n",
    "\n",
    "# Idempotent, cached data retrieval script\n",
    "\n",
    "print(data_loader.load_chromosome.__doc__)\n",
    "train_df, test_df, train_ix, test_ix, train_tissues, tfs = \\\n",
    "    data_loader.load_chromosome_cached('1')\n",
    "    \n",
    "sess = tf.InteractiveSession()"
   ]
  },
  {
   "cell_type": "code",
   "execution_count": 3,
   "metadata": {
    "collapsed": false,
    "scrolled": false
   },
   "outputs": [
    {
     "name": "stdout",
     "output_type": "stream",
     "text": [
      "nans in mean-imputed 0\n",
      "nans in interpolated 0\n"
     ]
    }
   ],
   "source": [
    "# Perhaps there are obvious sequence trends?\n",
    "def local_impute(data):\n",
    "    #http://stackoverflow.com/questions/9537543/replace-nans-in-numpy-array-with-closest-non-nan-value\n",
    "    mask = np.isnan(data)\n",
    "    data[mask] = np.interp(np.flatnonzero(mask), np.flatnonzero(~mask), data[~mask])\n",
    "    return data\n",
    "\n",
    "# Do mean imputation on our training data.\n",
    "def mean_impute(data):\n",
    "    mask = np.isnan(data)\n",
    "    data[mask] = float(data.mean()) # just = m messes with serialization\n",
    "    return data\n",
    "train_df_imp = train_df\n",
    "train_df_int = train_df\n",
    "for i in train_tissues:\n",
    "    train_df_imp[i] = mean_impute(train_df[i].copy())\n",
    "    train_df_int[i] = local_impute(train_df[i].copy())\n",
    "print('nans in mean-imputed', np.isnan(train_df_imp[train_tissues]).sum().sum())\n",
    "print('nans in interpolated', np.isnan(train_df_int[train_tissues]).sum().sum())"
   ]
  },
  {
   "cell_type": "code",
   "execution_count": 18,
   "metadata": {
    "collapsed": true
   },
   "outputs": [],
   "source": [
    "# Copied pretty much directly from sklearn\n",
    "\n",
    "# Returns a TensorFlow scalar with the size of the i-th dimension for\n",
    "# the parameter tensor x.\n",
    "def tf_get_shape(x, i):\n",
    "    return tf.squeeze(tf.slice(tf.shape(x), [i], [1])) \n",
    "\n",
    "def tf_nrows(x):\n",
    "    return tf_get_shape(x, 0)\n",
    "\n",
    "def tf_ncols(x):\n",
    "    return tf_get_shape(x, 1)\n",
    "\n",
    "# Simultaneous K-cluster likelihood computation.\n",
    "# X is NxD, mus is KxD, sigmas is KxD\n",
    "# Output is KxN likelihoods for each sample in each cluster.\n",
    "def tf_log_normals(X, mus, sigmas):\n",
    "    # p(X) = sqrt(a * b * c)\n",
    "    # a = (2 pi)^(-p)\n",
    "    # b = det(sigma)^(-1)\n",
    "    # c = exp(-(x - mu)^T sigma^(-1) (x - mu)) [expanded for numerical stability]\n",
    "    #\n",
    "    # Below we make simplifications since sigma is diag\n",
    "    \n",
    "    D = tf_ncols(mus)\n",
    "    XT = tf.transpose(X) # pxN\n",
    "    invsig = tf.inv(sigmas)\n",
    "    \n",
    "    loga = -tf.cast(D, 'float64') * tf.log(tf.constant(2 * np.pi, dtype='float64')) # scalar\n",
    "    logb = tf.reduce_sum(tf.log(invsig), 1, keep_dims=True) # Kx1\n",
    "    logc =  \\\n",
    "        - tf.reduce_sum(invsig * tf.square(mus), 1, keep_dims=True) \\\n",
    "        + 2 * tf.matmul(invsig * mus, XT) \\\n",
    "        - tf.matmul(invsig, tf.square(XT)) # KxN\n",
    "    \n",
    "    return 0.5 * (loga + logb + logc)\n",
    "\n",
    "# Stably log-sum-exps likelihood along rows.\n",
    "# Reduces KxN tensor L to 1xN tensor\n",
    "def tf_log_sum_exp(L):\n",
    "    maxs = tf.reduce_max(L, 0, keep_dims=True) # 1xN\n",
    "    return tf.log(tf.reduce_sum(tf.exp(L - maxs), 0, keep_dims=True)) + maxs\n",
    "\n",
    "# X is NxD, mus is KxD, sigmas KxD, alphas is K\n",
    "# output is KxN log likelihoods.\n",
    "def tf_log_likelihood(X, mus, sigmas, alphas):\n",
    "    alphas = tf.expand_dims(alphas, 1) # Kx1\n",
    "    return tf_log_normals(X, mus, sigmas) + tf.log(alphas) # KxN\n",
    "\n",
    "# X is NxD, mus is KxD, sigmas KxD, alphas is K\n",
    "# output is 1xN log probability for each sample, KxN responsibilities\n",
    "def estep(X, mus, sigmas, alphas):\n",
    "    log_likelihoods = tf_log_likelihood(X, mus, sigmas, alphas)\n",
    "    sample_log_prob = tf_log_sum_exp(log_likelihoods) # 1xN\n",
    "    return sample_log_prob, tf.exp(log_likelihoods - sample_log_prob)\n",
    "\n",
    "EPS = np.finfo(float).eps\n",
    "MIN_COVAR = EPS\n",
    "# X is NxD, resp is KxN (and normalized along axis 0)\n",
    "# Returns maximize step means, covariance, and cluster priors,\n",
    "# which have dimension KxD, KxD, and K, respectively\n",
    "def mstep(X, resp):\n",
    "    weights = tf.reduce_sum(resp, 1) # K\n",
    "    invweights = tf.expand_dims(tf.inv(weights + 10 * EPS), 1) # Kx1\n",
    "    alphas = EPS + weights / (tf.reduce_sum(weights) + 10 * EPS) # K\n",
    "    weighted_cluster_sum = tf.matmul(resp, X) # KxD \n",
    "    mus = weighted_cluster_sum * invweights\n",
    "    avg_X2 = tf.matmul(resp, tf.square(X)) * invweights\n",
    "    avg_mu2 = tf.square(mus)\n",
    "    avg_X_mu = mus * weighted_cluster_sum * invweights\n",
    "    sigmas = avg_X2 - 2 * avg_X_mu + avg_mu2 + MIN_COVAR\n",
    "    # (x - mu) (x-mu)^T for banded. \n",
    "    return mus, sigmas, alphas"
   ]
  },
  {
   "cell_type": "code",
   "execution_count": 19,
   "metadata": {
    "collapsed": false
   },
   "outputs": [
    {
     "name": "stdout",
     "output_type": "stream",
     "text": [
      "actual likelihoods [[ 0.82921532  0.74166541  0.91190172  0.83842359  0.69646833]\n",
      " [ 0.13678033  0.1481399   0.08065031  0.0659551   0.22347777]\n",
      " [ 0.03400434  0.1101947   0.00744797  0.09562131  0.0800539 ]]\n",
      "log likelihoods    [[ 0.82921532  0.74166541  0.91190172  0.83842359  0.69646833]\n",
      " [ 0.13678033  0.1481399   0.08065031  0.0659551   0.22347777]\n",
      " [ 0.03400434  0.1101947   0.00744797  0.09562131  0.0800539 ]]\n",
      "K=0 rmse=1.4895204919483638e-16\n",
      "K=1 rmse=1.3738309013483032e-16\n",
      "K=2 rmse=4.526431753179128e-17\n"
     ]
    }
   ],
   "source": [
    "# Make sure N, D are small so the numerically unstable verification code\n",
    "# doesn't underflow.\n",
    "N = 5\n",
    "D = 10\n",
    "\n",
    "X = np.random.normal(size=(N, D))\n",
    "mu = X.mean(axis=0)\n",
    "sigma = X.std(axis=0)\n",
    "mus = np.array([mu, mu, mu * 2])\n",
    "sigmas = np.array([sigma, sigma * 2, sigma])\n",
    "K = len(sigmas)\n",
    "alphas = np.random.dirichlet(np.ones(K), 1)[0]\n",
    "\n",
    "mean_ll, resp = sess.run(estep(*(tf.constant(x) for x in (X, mus, sigmas, alphas))))\n",
    "def normal_likelihoods(X, mu, sigma):\n",
    "    exponent = -np.dot((X - mu[np.newaxis, :]) ** 2, 1 / sigma) / 2\n",
    "    return (2 * np.pi) ** (-D / 2) * np.prod(sigma) ** (-1 / 2) * np.exp(exponent)\n",
    "actual = np.array([normal_likelihoods(X, mu, sigma) for mu, sigma in zip(mus, sigmas)])\n",
    "actual = sklearn.preprocessing.normalize(actual * alphas[:, np.newaxis], norm='l1', axis=0)\n",
    "resp = sklearn.preprocessing.normalize(resp, norm='l1', axis=0)\n",
    "print('actual likelihoods', actual)\n",
    "print('log likelihoods   ', resp)\n",
    "rmses = np.sqrt(sklearn.metrics.mean_squared_error(actual.T, resp.T, multioutput='raw_values'))\n",
    "for i, rmse in enumerate(rmses):\n",
    "    print('K={} rmse={}'.format(i, rmse))"
   ]
  },
  {
   "cell_type": "code",
   "execution_count": 21,
   "metadata": {
    "collapsed": true
   },
   "outputs": [],
   "source": [
    "# Similar pattern to\n",
    "# https://gist.github.com/narphorium/d06b7ed234287e319f18\n",
    "\n",
    "#todo try initializing covar to emprical cv computed from kmeans labels\n",
    "\n",
    "# Runs up to max_steps EM iterations, stopping earlier if log likelihood improves\n",
    "# less than tol.\n",
    "# X should be an NxD data matrix, initial_mus should be KxD\n",
    "# max_steps should be an int, tol should be a float.\n",
    "def fit_em(X, initial_mus, max_steps, tol):\n",
    "    N, D = X.shape\n",
    "    K, Dmu = initial_mus.shape\n",
    "    assert D == Dmu\n",
    "        \n",
    "    mus0 = initial_mus\n",
    "    sigmas0 = np.tile(np.var(X, axis=0), (K, 1))\n",
    "    alphas0 = np.ones(K) / K\n",
    "    X = tf.constant(X)\n",
    "    \n",
    "    mus, sigmas, alphas = (tf.Variable(x, dtype='float64') for x in [mus0, sigmas0, alphas0])\n",
    "    \n",
    "    sess.run(tf.initialize_all_variables())\n",
    "    all_ll, resp = estep(X, mus, sigmas, alphas)\n",
    "    cmus, csigmas, calphas = mstep(X, resp)\n",
    "    update_mus_step = tf.assign(mus, cmus)\n",
    "    update_sigmas_step = tf.assign(sigmas, csigmas)\n",
    "    update_alphas_step = tf.assign(alphas, calphas)     \n",
    "    \n",
    "    init_op = tf.initialize_all_variables()\n",
    "    ll = prev_ll = -np.inf\n",
    "                         \n",
    "    with tf.Session() as sess2:\n",
    "        sess2.run(init_op)\n",
    "        for i in range(max_steps):\n",
    "            ll = sess2.run(tf.reduce_mean(all_ll))\n",
    "            sess2.run((update_mus_step, update_sigmas_step, update_alphas_step))\n",
    "            print('EM iteration', i, 'log likelihood', ll)\n",
    "            if abs(ll - prev_ll) < tol:\n",
    "                break\n",
    "            prev_ll = ll\n",
    "        m, s, a = sess2.run((mus, sigmas, alphas))\n",
    "    \n",
    "    return ll, m, s, a"
   ]
  },
  {
   "cell_type": "code",
   "execution_count": 121,
   "metadata": {
    "collapsed": false
   },
   "outputs": [],
   "source": [
    "# Given a set of partial observations xs each of dimension O < D for a fitted GMM model with \n",
    "# K cluster priors alpha, KxD means mus, and KxD diagonal covariances sigmas,\n",
    "# returns the weighted sum of normals for the remaining D - O dimensions.\n",
    "#\n",
    "# Returns posterior_mus, posterior_sigmas, posterior_prior,\n",
    "# of dimensions:\n",
    "# Kx(D-O), Kx(D-O), NxK, respectively (each mu, sigma is the same for all posteriors).\n",
    "# NxK, NxKxD, NxKxD, respectively, for each x in xs, total of N.\n",
    "def marginal_posterior(xs, mus, sigmas, alphas):\n",
    "    # https://gbhqed.wordpress.com/2010/02/21/conditional-and-marginal-distributions-of-a-multivariate-gaussian/\n",
    "    # diagonal case is easy:\n",
    "    # https://en.wikipedia.org/wiki/Schur_complement#Applications_to_probability_theory_and_statistics\n",
    "    O = xs.shape[1]\n",
    "    D = mus.shape[1]\n",
    "    observed_mus, observed_sigmas = (tf.constant(a, dtype='float64')\n",
    "                                     for a in (mus[:,0:O], sigmas[:, 0:O]))\n",
    "    ll = tf_log_likelihood(xs, observed_mus, observed_sigmas, alphas) # KxN\n",
    "    norm = tf_log_sum_exp(ll) # 1xN\n",
    "    ll, norm = sess.run((ll, norm))\n",
    "    return mus[:, O:D], sigmas[:, O:D], np.transpose(ll / norm)\n",
    "\n",
    "# A \"sparser\" estimate which just uses the most likely cluster's mean as the estimate.\n",
    "def argmax_exp(mus, sigmas, alphas):\n",
    "    i = np.argmax(alphas)\n",
    "    return mus[i]"
   ]
  },
  {
   "cell_type": "code",
   "execution_count": 86,
   "metadata": {
    "collapsed": false
   },
   "outputs": [
    {
     "name": "stdout",
     "output_type": "stream",
     "text": [
      "means\n",
      "[[ 20.17616371  20.10495483]\n",
      " [  0.53687504   0.23774479]\n",
      " [ 10.42055163  10.07351857]]\n",
      "cov\n",
      "[[  1.46528671   1.06578162]\n",
      " [ 11.56134039   0.85248074]\n",
      " [  1.71172277  12.49839639]]\n",
      "cluster priors\n",
      "[ 0.33333333  0.34278281  0.32388386]\n"
     ]
    },
    {
     "data": {
      "image/png": "[encoded data removed]",
      "text/plain": [
       "<matplotlib.figure.Figure at 0x7f46b36df780>"
      ]
     },
     "metadata": {},
     "output_type": "display_data"
    }
   ],
   "source": [
    "n_samples = 25\n",
    "np.random.seed(0)\n",
    "\n",
    "def MVN(shear, shift):\n",
    "    rs = np.random.randn(n_samples, 2)\n",
    "    return np.dot(rs, shear.T) + shift\n",
    "G1 = MVN(np.identity(2), np.array([20, 20]))\n",
    "G2 = MVN(np.array([[0., 3.5], [-0.7, .7]]), np.zeros(2))\n",
    "G3 = MVN(np.array([[-1, 0.8], [0, 4]]), np.array([10, 8]))\n",
    "\n",
    "# concatenate the two datasets into the final training set\n",
    "X = np.vstack([G1, G2, G3])\n",
    "rx = np.random.choice(range(len(X)), 3, replace=False)\n",
    "\n",
    "# http://scikit-learn.org/stable/auto_examples/mixture/plot_gmm_pdf.html\n",
    "_, m, s, a = fit_em(X, X[rx], 100, EPS)\n",
    "x = np.linspace(-20.0, 30.0)\n",
    "y = np.linspace(-20.0, 40.0)\n",
    "xx, yy = np.meshgrid(x, y)\n",
    "pts = np.array([xx.ravel(), yy.ravel()]).T\n",
    "ll = -estep(pts, m, s, a)[0].eval()\n",
    "print('means\\n{}\\ncov\\n{}\\ncluster priors\\n{}'.format(m, s, a))\n",
    "CS = plt.contour(xx, yy, ll.reshape(xx.shape), norm=LogNorm(vmin=1.0, vmax=1000.0),\n",
    "                levels=np.logspace(0, 3, 20))\n",
    "plt.colorbar(CS, shrink=0.8, extend='both')\n",
    "plt.scatter(X[:, 0], X[:, 1])\n",
    "plt.show()"
   ]
  },
  {
   "cell_type": "code",
   "execution_count": 93,
   "metadata": {
    "collapsed": false
   },
   "outputs": [
    {
     "name": "stdout",
     "output_type": "stream",
     "text": [
      "y = -10.0\n",
      "y = 0.0\n",
      "y = 2.5\n",
      "y = 10.0\n",
      "y = 20.0\n"
     ]
    },
    {
     "data": {
      "image/png": "[encoded data removed]",
      "text/plain": [
       "<matplotlib.figure.Figure at 0x7f4681e96198>"
      ]
     },
     "metadata": {},
     "output_type": "display_data"
    }
   ],
   "source": [
    "# Make this into a nice image.\n",
    "ys = [-10, 0, 2.5, 10, 20]\n",
    "pts = np.arange(-20, 30, 0.1, dtype='float64').reshape(-1, 1)\n",
    "ys = np.array(ys, dtype='float64').reshape(-1, 1)\n",
    "# Reverse m, s, a, since we know 'y'\n",
    "mr, sr = (x[:, ::-1] for x in (m, s))\n",
    "mm, sm, ams = marginal_posterior(ys, mr, sr, a)\n",
    "for i, y in enumerate(ys.reshape(-1)):\n",
    "    print('y =', y)\n",
    "    ll = estep(pts, mm, sm, ams[i])[0].eval().reshape(-1)\n",
    "    plt.plot(pts, np.exp(ll) / 10 + y)\n",
    "    #plt.show()\n",
    "\n",
    "ys = np.arange(-20, 30, 0.05, dtype='float64').reshape(-1, 1)\n",
    "mm, sm, ams = marginal_posterior(ys, mr, sr, a)\n",
    "xs = [argmax_exp(mm, sm, am) for am in ams]\n",
    "plt.plot(xs, ys, label='argmax cluster mu')\n",
    "plt.legend(bbox_to_anchor=(1.05, 1), loc=2, borderaxespad=0.)\n",
    "plt.show()"
   ]
  },
  {
   "cell_type": "code",
   "execution_count": 94,
   "metadata": {
    "collapsed": false
   },
   "outputs": [
    {
     "name": "stdout",
     "output_type": "stream",
     "text": [
      "(6, 379551)\n"
     ]
    }
   ],
   "source": [
    "# N = 10\n",
    "N = 33\n",
    "p = 20 # D is better?\n",
    "K = 6\n",
    "k = 0 # maximum band offset (0 is just diagonal)\n",
    "tissues_to_cluster = train_tissues\n",
    "X_np = train_df_imp[train_tissues].values.transpose()\n",
    "\n",
    "np.random.seed(2)\n",
    "rc = np.random.choice(range(len(train_df)), D, replace=False)\n",
    "rmu = np.random.choice(range(N), K, replace=False)\n",
    "\n",
    "np.random.shuffle(X_np)\n",
    "per = N // K\n",
    "splits = [X_np[i:i+per] for i in range(0, N // K * K, per)]\n",
    "\n",
    "\n",
    "# X_trunc = X_np[:N, rc]\n",
    "X_trunc = X_np[:N]\n",
    "mu_init = X_trunc[rmu]\n",
    "# mu_init = np.array([x.mean(axis=0) for x in splits])\n",
    "#mu_init = X_np[19:22]\n",
    "\n",
    "\n",
    "print(mu_init.shape)"
   ]
  },
  {
   "cell_type": "code",
   "execution_count": 105,
   "metadata": {
    "collapsed": false
   },
   "outputs": [
    {
     "name": "stdout",
     "output_type": "stream",
     "text": [
      "mean log likelihood\n",
      "633652.1419880254\n",
      "means\n",
      "[[ 0.87500975  0.90780635  0.92082692 ...,  0.89510721  0.83983662\n",
      "   0.91930058]\n",
      " [ 0.619375    0.71688575  0.86936088 ...,  0.6439394   0.55386905\n",
      "   0.81057038]\n",
      " [ 0.69037039  0.64749382  0.85318387 ...,  0.73382859  0.62189827\n",
      "   0.8633888 ]\n",
      " [ 0.71669664  0.79454031  0.84682082 ...,  0.81952175  0.70167401\n",
      "   0.865946  ]\n",
      " [ 0.          0.          0.         ...,  0.          0.          0.        ]\n",
      " [ 0.58753563  0.67109878  0.77597403 ...,  0.65741036  0.56237251\n",
      "   0.72967778]]\n",
      "cov\n",
      "[[  1.72977352e-02   7.67351835e-03   9.02567337e-04 ...,   5.74835123e-03\n",
      "    8.74412279e-03   3.65791189e-03]\n",
      " [  9.87539063e-03   4.31950616e-03   1.49279891e-04 ...,   5.16530165e-04\n",
      "    5.58044782e-03   4.48640346e-03]\n",
      " [  2.50644588e-03   6.09698901e-03   1.06965618e-03 ...,   2.38791375e-04\n",
      "    3.45700023e-03   3.91929143e-03]\n",
      " [  1.88313334e-02   1.22776476e-02   7.54211056e-03 ...,   6.18999164e-03\n",
      "    8.09318890e-03   3.99288546e-03]\n",
      " [  2.22044605e-16   2.22044605e-16   2.22044605e-16 ...,   2.22044605e-16\n",
      "    2.22044605e-16   2.22044605e-16]\n",
      " [  3.98722273e-04   4.04433913e-03   2.83822651e-02 ...,   2.49067808e-03\n",
      "    2.03682081e-03   1.49265153e-02]]\n",
      "cluster priors\n",
      "[ 0.42424242  0.06060606  0.09090909  0.33333333  0.03030303  0.06060606]\n"
     ]
    }
   ],
   "source": [
    "## Implement custom GMM\n",
    "#todo check float32/float64 conversion for speedup\n",
    "#todo scale (standardize) data before running\n",
    "#todo kmeans warmup (just in numpy?)\n",
    "#todo mincovar\n",
    "lp, m, s, a = fit_em(X_trunc, mu_init, 100, EPS)\n",
    "print('mean log likelihood\\n{}\\nmeans\\n{}\\ncov\\n{}\\ncluster priors\\n{}'\n",
    "      .format(lp, m, s, a))"
   ]
  },
  {
   "cell_type": "code",
   "execution_count": 115,
   "metadata": {
    "collapsed": false
   },
   "outputs": [],
   "source": [
    "o = np.ones(len(train_df))\n",
    "o[train_ix] = 0\n",
    "o[test_ix] = 0\n",
    "unobserved_untested_ix = np.where(o)[0]\n",
    "o = np.zeros(len(train_df))\n",
    "o[test_ix] = 1\n",
    "unobserved_tested_ix = np.where(o)[0]"
   ]
  },
  {
   "cell_type": "code",
   "execution_count": 116,
   "metadata": {
    "collapsed": false
   },
   "outputs": [],
   "source": [
    "perm = np.hstack((train_ix, unobserved_tested_ix, unobserved_untested_ix))"
   ]
  },
  {
   "cell_type": "code",
   "execution_count": 117,
   "metadata": {
    "collapsed": false
   },
   "outputs": [
    {
     "data": {
      "text/plain": [
       "(379551, 379551)"
      ]
     },
     "execution_count": 117,
     "metadata": {},
     "output_type": "execute_result"
    }
   ],
   "source": [
    "observed = test_df['filled'][train_ix].values\n",
    "len(perm), len(train_df)"
   ]
  },
  {
   "cell_type": "code",
   "execution_count": 124,
   "metadata": {
    "collapsed": false
   },
   "outputs": [
    {
     "name": "stdout",
     "output_type": "stream",
     "text": [
      "379551 379551 6\n",
      "[[ 0.6888889   0.8518519   0.14666666 ...,  0.877193    0.9259259\n",
      "   0.41666666]]\n",
      "(7523,)\n",
      "(6, 372028) (6, 372028) (1, 6)\n",
      "[ 0.87500975  0.90780635  0.92082692 ...,  0.89510721  0.83983662\n",
      "  0.91930058]\n",
      "368411 368411\n",
      "rmse 0.07630200512736934\n",
      "r2 0.796397458062\n"
     ]
    }
   ],
   "source": [
    "mm, ms = (x[:, perm] for x in (m, s))\n",
    "print(len(mm[0]), len(ms[0]), len(a))\n",
    "print(observed.reshape(1, len(observed)))\n",
    "print(observed.shape)\n",
    "mm, sm, ams = marginal_posterior(observed.reshape(1, len(observed)), mm, ms, a)\n",
    "print(mm.shape, sm.shape, ams.shape)\n",
    "pred = argmax_exp(mm, sm, ams[0])[:len(unobserved_tested_ix)]\n",
    "print(pred)\n",
    "actual = test_df['filled'][unobserved_tested_ix]\n",
    "print(len(pred), len(actual))\n",
    "print('rmse', math.sqrt(actual.sub(pred).pow(2).mean())) # rmse of GMM\n",
    "print('r2', sklearn.metrics.r2_score(actual, pred))"
   ]
  },
  {
   "cell_type": "code",
   "execution_count": null,
   "metadata": {
    "collapsed": true
   },
   "outputs": [],
   "source": []
  }
 ],
 "metadata": {
  "kernelspec": {
   "display_name": "Python 3",
   "language": "python",
   "name": "python3"
  }
 },
 "nbformat": 4,
 "nbformat_minor": 0
}
