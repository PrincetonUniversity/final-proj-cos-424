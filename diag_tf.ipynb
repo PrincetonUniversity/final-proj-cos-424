{
 "cells": [
  {
   "cell_type": "code",
   "execution_count": 1,
   "metadata": {
    "collapsed": false
   },
   "outputs": [
    {
     "name": "stdout",
     "output_type": "stream",
     "text": [
      "nans in interpolated 0\n"
     ]
    }
   ],
   "source": [
    "# Imports\n",
    "\n",
    "%matplotlib inline\n",
    "import matplotlib.pyplot as plt\n",
    "from matplotlib.colors import LogNorm\n",
    "import tensorflow as tf\n",
    "import numpy as np\n",
    "import pandas as pd\n",
    "from itertools import *\n",
    "import sklearn\n",
    "import math\n",
    "import random\n",
    "import sys\n",
    "import multiprocessing\n",
    "import scipy\n",
    "from joblib import Parallel, delayed\n",
    "import threading\n",
    "nproc = max(1, multiprocessing.cpu_count() - 1)\n",
    "\n",
    "if 'utils' not in sys.path:\n",
    "    sys.path.append('utils')\n",
    "\n",
    "import data_loader\n",
    "from tf_gmm_em import *\n",
    "\n",
    "# Warnings\n",
    "\n",
    "import warnings\n",
    "warnings.filterwarnings('ignore')\n",
    "\n",
    "# Idempotent, cached data retrieval script\n",
    "\n",
    "train_df, test_df, train_ix, test_ix, train_tissues, tfs = \\\n",
    "    data_loader.load_chromosome_cached('1')\n",
    "    \n",
    "train_df_int = train_df\n",
    "for i in train_tissues:\n",
    "    train_df_int[i] = data_loader.local_impute(train_df[i].copy())\n",
    "print('nans in interpolated', np.isnan(train_df_int[train_tissues]).sum().sum())"
   ]
  },
  {
   "cell_type": "code",
   "execution_count": 2,
   "metadata": {
    "collapsed": false
   },
   "outputs": [
    {
     "name": "stdout",
     "output_type": "stream",
     "text": [
      "actual likelihoods [[ 0.62538449  0.54523774  0.60606044  0.50841656  0.36889884]\n",
      " [ 0.25914281  0.25810876  0.31521413  0.39260545  0.61973193]\n",
      " [ 0.1154727   0.1966535   0.07872543  0.09897798  0.01136924]]\n",
      "log likelihoods    [[ 0.62538449  0.54523774  0.60606044  0.50841656  0.36889884]\n",
      " [ 0.25914281  0.25810876  0.31521413  0.39260545  0.61973193]\n",
      " [ 0.1154727   0.1966535   0.07872543  0.09897798  0.01136924]]\n",
      "K=0 rmse=2.3288234633381846e-16\n",
      "K=1 rmse=3.050589040050974e-16\n",
      "K=2 rmse=1.11465938984643e-16\n"
     ]
    }
   ],
   "source": [
    "# Verify that we get similar likelihoods with e step.\n",
    "\n",
    "# Make sure N, D are small so the numerically unstable verification code\n",
    "# doesn't underflow.\n",
    "N = 5\n",
    "D = 10\n",
    "\n",
    "X = np.random.normal(size=(N, D))\n",
    "mu = X.mean(axis=0)\n",
    "sigma = X.std(axis=0)\n",
    "mus = np.array([mu, mu, mu * 2])\n",
    "sigmas = np.array([sigma, sigma * 2, sigma])\n",
    "K = len(sigmas)\n",
    "alphas = np.random.dirichlet(np.ones(K), 1)[0]\n",
    "\n",
    "with tf.Session() as sess:\n",
    "    mean_ll, resp = sess.run(estep(*(tf.constant(x) for x in (X, mus, sigmas, alphas))))\n",
    "def normal_likelihoods(X, mu, sigma):\n",
    "    exponent = -np.dot((X - mu[np.newaxis, :]) ** 2, 1 / sigma) / 2\n",
    "    return (2 * np.pi) ** (-D / 2) * np.prod(sigma) ** (-1 / 2) * np.exp(exponent)\n",
    "actual = np.array([normal_likelihoods(X, mu, sigma) for mu, sigma in zip(mus, sigmas)])\n",
    "actual = sklearn.preprocessing.normalize(actual * alphas[:, np.newaxis], norm='l1', axis=0)\n",
    "resp = sklearn.preprocessing.normalize(resp, norm='l1', axis=0)\n",
    "print('actual likelihoods', actual)\n",
    "print('log likelihoods   ', resp)\n",
    "rmses = np.sqrt(sklearn.metrics.mean_squared_error(actual.T, resp.T, multioutput='raw_values'))\n",
    "for i, rmse in enumerate(rmses):\n",
    "    print('K={} rmse={}'.format(i, rmse))"
   ]
  },
  {
   "cell_type": "code",
   "execution_count": 3,
   "metadata": {
    "collapsed": false
   },
   "outputs": [
    {
     "name": "stdout",
     "output_type": "stream",
     "text": [
      "EM iteration 0 log likelihood -7.35198152992\n",
      "EM iteration 1 log likelihood -6.47467678494\n",
      "EM iteration 2 log likelihood -6.24674774385\n",
      "EM iteration 3 log likelihood -5.97248623094\n",
      "EM iteration 4 log likelihood -5.76790958396\n",
      "EM iteration 5 log likelihood -5.58112689263\n",
      "EM iteration 6 log likelihood -5.33878066436\n",
      "EM iteration 7 log likelihood -5.15980763038\n",
      "EM iteration 8 log likelihood -4.99778837824\n",
      "EM iteration 9 log likelihood -4.92989800906\n",
      "EM iteration 10 log likelihood -4.89466501232\n",
      "EM iteration 11 log likelihood -4.89062020699\n",
      "EM iteration 12 log likelihood -4.89026156177\n",
      "EM iteration 13 log likelihood -4.89018691658\n",
      "EM iteration 14 log likelihood -4.89016792669\n",
      "EM iteration 15 log likelihood -4.89016267811\n",
      "EM iteration 16 log likelihood -4.89016116864\n",
      "EM iteration 17 log likelihood -4.89016072562\n",
      "EM iteration 18 log likelihood -4.89016059419\n",
      "EM iteration 19 log likelihood -4.89016055498\n",
      "EM iteration 20 log likelihood -4.89016054324\n",
      "EM iteration 21 log likelihood -4.89016053972\n",
      "EM iteration 22 log likelihood -4.89016053867\n",
      "EM iteration 23 log likelihood -4.89016053835\n",
      "EM iteration 24 log likelihood -4.89016053825\n",
      "EM iteration 25 log likelihood -4.89016053822\n",
      "EM iteration 26 log likelihood -4.89016053822\n",
      "EM iteration 27 log likelihood -4.89016053821\n",
      "EM iteration 28 log likelihood -4.89016053821\n",
      "EM iteration 29 log likelihood -4.89016053821\n",
      "EM iteration 30 log likelihood -4.89016053821\n",
      "EM iteration 31 log likelihood -4.89016053821\n",
      "EM iteration 32 log likelihood -4.89016053821\n",
      "EM iteration 33 log likelihood -4.89016053821\n",
      "EM iteration 34 log likelihood -4.89016053821\n",
      "EM iteration 35 log likelihood -4.89016053821\n",
      "EM iteration 36 log likelihood -4.89016053821\n",
      "EM iteration 37 log likelihood -4.89016053821\n",
      "EM iteration 38 log likelihood -4.89016053821\n",
      "EM iteration 39 log likelihood -4.89016053821\n",
      "means\n",
      "[[ 20.17616371  20.10495483]\n",
      " [  0.53687504   0.23774479]\n",
      " [ 10.42055163  10.07351857]]\n",
      "cov\n",
      "[[  1.46528671   1.06578162]\n",
      " [ 11.56134039   0.85248074]\n",
      " [  1.71172277  12.49839639]]\n",
      "cluster priors\n",
      "[ 0.33333333  0.34278281  0.32388386]\n"
     ]
    },
    {
     "data": {
      "image/png": "[encoded data removed]",
      "text/plain": [
       "<matplotlib.figure.Figure at 0x7f5224f80780>"
      ]
     },
     "metadata": {},
     "output_type": "display_data"
    }
   ],
   "source": [
    "# Check that EM is working on small 2D example\n",
    "\n",
    "n_samples = 25\n",
    "np.random.seed(0)\n",
    "\n",
    "def MVN(shear, shift):\n",
    "    rs = np.random.randn(n_samples, 2)\n",
    "    return np.dot(rs, shear.T) + shift\n",
    "G1 = MVN(np.identity(2), np.array([20, 20]))\n",
    "G2 = MVN(np.array([[0., 3.5], [-0.7, .7]]), np.zeros(2))\n",
    "G3 = MVN(np.array([[-1, 0.8], [0, 4]]), np.array([10, 8]))\n",
    "\n",
    "# concatenate the two datasets into the final training set\n",
    "X = np.vstack([G1, G2, G3])\n",
    "rx = np.random.choice(range(len(X)), 3, replace=False)\n",
    "\n",
    "# http://scikit-learn.org/stable/auto_examples/mixture/plot_gmm_pdf.html\n",
    "_, m, s, a = fit_em(X, X[rx], 100, EPS)\n",
    "x = np.linspace(-20.0, 30.0)\n",
    "y = np.linspace(-20.0, 40.0)\n",
    "xx, yy = np.meshgrid(x, y)\n",
    "pts = np.array([xx.ravel(), yy.ravel()]).T\n",
    "with tf.Session() as sess:\n",
    "    ll = sess.run(-estep(pts, m, s, a)[0])\n",
    "print('means\\n{}\\ncov\\n{}\\ncluster priors\\n{}'.format(m, s, a))\n",
    "CS = plt.contour(xx, yy, ll.reshape(xx.shape), norm=LogNorm(vmin=1.0, vmax=1000.0),\n",
    "                levels=np.logspace(0, 3, 20))\n",
    "plt.colorbar(CS, shrink=0.8, extend='both')\n",
    "plt.scatter(X[:, 0], X[:, 1])\n",
    "plt.show()"
   ]
  },
  {
   "cell_type": "code",
   "execution_count": 4,
   "metadata": {
    "collapsed": false
   },
   "outputs": [
    {
     "name": "stdout",
     "output_type": "stream",
     "text": [
      "y = -10.0\n",
      "y = 0.0\n",
      "y = 2.5\n",
      "y = 10.0\n",
      "y = 20.0\n"
     ]
    },
    {
     "data": {
      "image/png": "[encoded data removed]",
      "text/plain": [
       "<matplotlib.figure.Figure at 0x7f525c17d5f8>"
      ]
     },
     "metadata": {},
     "output_type": "display_data"
    }
   ],
   "source": [
    "# Make this into a nice image.\n",
    "ys = [-10, 0, 2.5, 10, 20]\n",
    "pts = np.arange(-20, 30, 0.1, dtype='float64').reshape(-1, 1)\n",
    "ys = np.array(ys, dtype='float64').reshape(-1, 1)\n",
    "# Reverse m, s, a, since we know 'y'\n",
    "mr, sr = (x[:, ::-1] for x in (m, s))\n",
    "mm, sm, ams = marginal_posterior(ys, mr, sr, a)\n",
    "with tf.Session() as sess:\n",
    "    for i, y in enumerate(ys.reshape(-1)):\n",
    "        print('y =', y)\n",
    "        ll = sess.run(estep(pts, mm, sm, ams[i])[0]).reshape(-1)\n",
    "        plt.plot(pts, np.exp(ll) / 10 + y, ls='--')\n",
    "\n",
    "ys = np.arange(-20, 30, 0.05, dtype='float64').reshape(-1, 1)\n",
    "mm, sm, ams = marginal_posterior(ys, mr, sr, a)\n",
    "xs = [argmax_exp(mm, sm, am) for am in ams]\n",
    "plt.plot(xs, ys, label='argmax cluster mu')\n",
    "plt.legend(bbox_to_anchor=(1.05, 1), loc=2, borderaxespad=0.)\n",
    "plt.show()"
   ]
  },
  {
   "cell_type": "code",
   "execution_count": 5,
   "metadata": {
    "collapsed": false
   },
   "outputs": [
    {
     "name": "stdout",
     "output_type": "stream",
     "text": [
      "(3, 379551)\n",
      "EM iteration 0 log likelihood 196079.78507\n",
      "EM iteration 1 log likelihood 349194.10917\n",
      "EM iteration 2 log likelihood 349194.10917\n",
      "mean log likelihood\n",
      "349194.1091700783\n",
      "means\n",
      "[[ 0.82155828  0.85358269  0.89969972 ...,  0.83770646  0.76792878\n",
      "   0.90230342]\n",
      " [ 0.66285167  0.77419355  0.8371126  ...,  0.77509867  0.67699676\n",
      "   0.82820652]\n",
      " [ 0.67663614  0.72054922  0.78027878 ...,  0.84746755  0.77541948\n",
      "   0.9193175 ]]\n",
      "cov\n",
      "[[ 0.02260282  0.01610682  0.00167859 ...,  0.01114634  0.01686153\n",
      "   0.00408701]\n",
      " [ 0.02323667  0.01974373  0.01764314 ...,  0.01254889  0.0099991\n",
      "   0.01053107]\n",
      " [ 0.07547356  0.07811962  0.08039246 ...,  0.01250176  0.03177511\n",
      "   0.00101074]]\n",
      "cluster priors\n",
      "[ 0.57575758  0.24242424  0.18181818]\n"
     ]
    }
   ],
   "source": [
    "## Implement custom GMM\n",
    "\n",
    "tissues_to_cluster = train_tissues[:-1] # note this contains bad tissues 25, 26 still.\n",
    "X_np = train_df_int[tissues_to_cluster].values.transpose()\n",
    "N = len(tissues_to_cluster)\n",
    "\n",
    "np.random.seed(2)\n",
    "rmu = np.random.choice(range(N), K, replace=False)\n",
    "\n",
    "mu_init = X_np[rmu]\n",
    "\n",
    "print(mu_init.shape)\n",
    "\n",
    "lp, m, s, a = fit_em(X_np, mu_init, 100, EPS)\n",
    "print('mean log likelihood\\n{}\\nmeans\\n{}\\ncov\\n{}\\ncluster priors\\n{}'\n",
    "      .format(lp, m, s, a))"
   ]
  },
  {
   "cell_type": "code",
   "execution_count": 6,
   "metadata": {
    "collapsed": false
   },
   "outputs": [],
   "source": [
    "o = np.ones(len(train_df))\n",
    "o[train_ix] = 0\n",
    "o[test_ix] = 0\n",
    "unobserved_untested_ix = np.where(o)[0]\n",
    "o = np.zeros(len(train_df))\n",
    "o[test_ix] = 1\n",
    "unobserved_tested_ix = np.where(o)[0]"
   ]
  },
  {
   "cell_type": "code",
   "execution_count": 7,
   "metadata": {
    "collapsed": false
   },
   "outputs": [],
   "source": [
    "perm = np.hstack((train_ix, unobserved_tested_ix, unobserved_untested_ix))"
   ]
  },
  {
   "cell_type": "code",
   "execution_count": 8,
   "metadata": {
    "collapsed": false
   },
   "outputs": [
    {
     "data": {
      "text/plain": [
       "(379551, 379551)"
      ]
     },
     "execution_count": 8,
     "metadata": {},
     "output_type": "execute_result"
    }
   ],
   "source": [
    "observed = test_df['filled'][train_ix].values\n",
    "len(perm), len(train_df)"
   ]
  },
  {
   "cell_type": "code",
   "execution_count": 9,
   "metadata": {
    "collapsed": false
   },
   "outputs": [
    {
     "name": "stdout",
     "output_type": "stream",
     "text": [
      "379551 379551 3\n",
      "[[ 0.6888889   0.8518519   0.14666666 ...,  0.877193    0.9259259\n",
      "   0.41666666]]\n",
      "(7523,)\n",
      "(3, 372028) (3, 372028) (1, 3)\n",
      "[ 0.82155828  0.85358269  0.89969972 ...,  0.83770646  0.76792878\n",
      "  0.90230342]\n",
      "368411 368411\n",
      "rmse 0.09589186839714639\n",
      "r2 0.678430496245\n",
      "mle\n",
      "Running mean 0\n",
      "   1 of 5 done, NLL = -568224.639786\n",
      "   2 of 5 done, NLL = -568224.639786\n",
      "  Converged early after 2 steps.\n",
      "  Best NLL = -568224.639786\n",
      "Running mean 1\n",
      "   1 of 5 done, NLL = -455890.463927\n",
      "   2 of 5 done, NLL = -455890.463927\n",
      "  Converged early after 2 steps.\n",
      "  Best NLL = -455890.463927\n",
      "Running mean 2\n",
      "   1 of 5 done, NLL = -510263.83155\n",
      "   2 of 5 done, NLL = -510263.83155\n",
      "  Converged early after 2 steps.\n",
      "  Best NLL = -510263.83155\n",
      "rmse 0.09589186839714639\n",
      "r2 0.678430496245\n"
     ]
    }
   ],
   "source": [
    "mm, ms = (x[:, perm] for x in (m, s))\n",
    "print(len(mm[0]), len(ms[0]), len(a))\n",
    "print(observed.reshape(1, len(observed)))\n",
    "print(observed.shape)\n",
    "mm, sm, ams = marginal_posterior(observed.reshape(1, len(observed)), mm, ms, a)\n",
    "print(mm.shape, sm.shape, ams.shape)\n",
    "pred = argmax_exp(mm, sm, ams[0])[:len(unobserved_tested_ix)]\n",
    "print(pred)\n",
    "actual = test_df['filled'][unobserved_tested_ix]\n",
    "print(len(pred), len(actual))\n",
    "print('rmse', math.sqrt(actual.sub(pred).pow(2).mean())) # rmse of GMM\n",
    "print('r2', sklearn.metrics.r2_score(actual, pred))\n",
    "print('mle')\n",
    "pred2 = gd_mle(mm, sm, np.exp(ams[0]), 5, EPS, warning='gd', verbose=True, minstep=1e-4)\n",
    "pred2 = pred2.reshape(-1)[:len(unobserved_tested_ix)]\n",
    "print('rmse', math.sqrt(actual.sub(pred2).pow(2).mean())) # rmse of GMM\n",
    "print('r2', sklearn.metrics.r2_score(actual, pred2))"
   ]
  }
 ],
 "metadata": {
  "kernelspec": {
   "display_name": "Python 3",
   "language": "python",
   "name": "python3"
  },
  "language_info": {
   "codemirror_mode": {
    "name": "ipython",
    "version": 3
   },
   "file_extension": ".py",
   "mimetype": "text/x-python",
   "name": "python",
   "nbconvert_exporter": "python",
   "pygments_lexer": "ipython3",
   "version": "3.5.1+"
  }
 },
 "nbformat": 4,
 "nbformat_minor": 0
}
