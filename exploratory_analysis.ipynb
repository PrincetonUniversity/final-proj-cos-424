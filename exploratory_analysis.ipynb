{
 "cells": [
  {
   "cell_type": "code",
   "execution_count": 21,
   "metadata": {
    "collapsed": false
   },
   "outputs": [
    {
     "name": "stdout",
     "output_type": "stream",
     "text": [
      "Idempotent data loading. For a given chromosome n (a string).\n",
      "    \n",
      "    Returns (train_df, test_df, train_ix, test_ix, train_tissues, tfs)\n",
      "    \n",
      "    The first two are the train and test dataframes, and test_ix are the\n",
      "    values in test_df['assayed'] that are missing and need to be imputed (with the\n",
      "    correct answer being in test_df['filled'] in the corresponding locations.\n",
      "    train_ix are the assayed (known) methylation values from limited microarray\n",
      "    sampling (e.g., test_df['assayed'].iloc[train_ix] can be used for prediction of\n",
      "    test_df['filled'].iloc[test_ix], and the former should be about equal to\n",
      "    test_df['filled'].iloc[train_ix] (two different ways of sampling methylation).\n",
      "    \n",
      "    Imports genetic context and adds those columns to the parameter df, returning\n",
      "    a merged one. tfs is the list of names of new transcription\n",
      "    factors.\n",
      "    \n",
      "    train_tissues is a list of the names of columns with chromosome methylation values.\n",
      "    \n",
      "    Note that loading from scratch may take ~5 min (for merging genetic contexts).\n"
     ]
    }
   ],
   "source": [
    "# Imports\n",
    "\n",
    "%matplotlib inline\n",
    "from sklearn import mixture\n",
    "import matplotlib.pyplot as plt\n",
    "import numpy as np\n",
    "import pandas as pd\n",
    "from itertools import *\n",
    "import math\n",
    "import random\n",
    "from scipy.stats import pearsonr\n",
    "import sys\n",
    "from joblib import Parallel, delayed\n",
    "import multiprocessing\n",
    "nproc = max(1, multiprocessing.cpu_count() - 1)\n",
    "from functools import partial\n",
    "\n",
    "from sklearn import linear_model\n",
    "from sklearn import ensemble\n",
    "from scipy.spatial import distance\n",
    "from sklearn.metrics import r2_score, mean_squared_error\n",
    "from sklearn.grid_search import GridSearchCV\n",
    "\n",
    "if 'utils' not in sys.path:\n",
    "    sys.path.append('utils')\n",
    "\n",
    "import data_loader\n",
    "\n",
    "# Warnings\n",
    "\n",
    "import warnings\n",
    "warnings.filterwarnings('ignore')\n",
    "\n",
    "# Idempotent, cached data retrieval script\n",
    "\n",
    "print(data_loader.load_chromosome.__doc__)\n",
    "train_df, test_df, train_ix, test_ix, train_tissues, tfs = \\\n",
    "    data_loader.load_chromosome_cached('1')"
   ]
  },
  {
   "cell_type": "code",
   "execution_count": 2,
   "metadata": {
    "collapsed": false
   },
   "outputs": [
    {
     "data": {
      "text/plain": [
       "413436"
      ]
     },
     "execution_count": 2,
     "metadata": {},
     "output_type": "execute_result"
    }
   ],
   "source": [
    "# Double check that there actually are transcription factors in there:\n",
    "train_df[list(tfs)].sum().sum()"
   ]
  },
  {
   "cell_type": "code",
   "execution_count": 5,
   "metadata": {
    "collapsed": false
   },
   "outputs": [
    {
     "name": "stdout",
     "output_type": "stream",
     "text": [
      "Num train tissues 34\n",
      "Num trans factors 161\n",
      "Dropping all but first two tissues, transcription factors.\n"
     ]
    },
    {
     "data": {
      "text/html": [
       "<div>\n",
       "<table border=\"1\" class=\"dataframe\">\n",
       "  <thead>\n",
       "    <tr style=\"text-align: right;\">\n",
       "      <th></th>\n",
       "      <th>chromosome</th>\n",
       "      <th>start</th>\n",
       "      <th>end</th>\n",
       "      <th>strand</th>\n",
       "      <th>b0</th>\n",
       "      <th>b1</th>\n",
       "      <th>GABPA</th>\n",
       "      <th>ZBTB33</th>\n",
       "    </tr>\n",
       "  </thead>\n",
       "  <tbody>\n",
       "    <tr>\n",
       "      <th>267</th>\n",
       "      <td>chr1</td>\n",
       "      <td>121511</td>\n",
       "      <td>121513</td>\n",
       "      <td>True</td>\n",
       "      <td>0.714286</td>\n",
       "      <td>0.739130</td>\n",
       "      <td>False</td>\n",
       "      <td>False</td>\n",
       "    </tr>\n",
       "    <tr>\n",
       "      <th>268</th>\n",
       "      <td>chr1</td>\n",
       "      <td>121516</td>\n",
       "      <td>121518</td>\n",
       "      <td>True</td>\n",
       "      <td>0.857143</td>\n",
       "      <td>0.800000</td>\n",
       "      <td>False</td>\n",
       "      <td>False</td>\n",
       "    </tr>\n",
       "    <tr>\n",
       "      <th>269</th>\n",
       "      <td>chr1</td>\n",
       "      <td>122736</td>\n",
       "      <td>122738</td>\n",
       "      <td>False</td>\n",
       "      <td>0.545455</td>\n",
       "      <td>0.384615</td>\n",
       "      <td>False</td>\n",
       "      <td>False</td>\n",
       "    </tr>\n",
       "    <tr>\n",
       "      <th>270</th>\n",
       "      <td>chr1</td>\n",
       "      <td>122869</td>\n",
       "      <td>122871</td>\n",
       "      <td>False</td>\n",
       "      <td>0.837838</td>\n",
       "      <td>0.814815</td>\n",
       "      <td>False</td>\n",
       "      <td>False</td>\n",
       "    </tr>\n",
       "    <tr>\n",
       "      <th>271</th>\n",
       "      <td>chr1</td>\n",
       "      <td>122884</td>\n",
       "      <td>122886</td>\n",
       "      <td>False</td>\n",
       "      <td>0.842105</td>\n",
       "      <td>0.821429</td>\n",
       "      <td>False</td>\n",
       "      <td>False</td>\n",
       "    </tr>\n",
       "    <tr>\n",
       "      <th>272</th>\n",
       "      <td>chr1</td>\n",
       "      <td>127749</td>\n",
       "      <td>127751</td>\n",
       "      <td>True</td>\n",
       "      <td>0.633333</td>\n",
       "      <td>0.473684</td>\n",
       "      <td>False</td>\n",
       "      <td>False</td>\n",
       "    </tr>\n",
       "  </tbody>\n",
       "</table>\n",
       "</div>"
      ],
      "text/plain": [
       "    chromosome   start     end strand        b0        b1  GABPA ZBTB33\n",
       "267       chr1  121511  121513   True  0.714286  0.739130  False  False\n",
       "268       chr1  121516  121518   True  0.857143  0.800000  False  False\n",
       "269       chr1  122736  122738  False  0.545455  0.384615  False  False\n",
       "270       chr1  122869  122871  False  0.837838  0.814815  False  False\n",
       "271       chr1  122884  122886  False  0.842105  0.821429  False  False\n",
       "272       chr1  127749  127751   True  0.633333  0.473684  False  False"
      ]
     },
     "execution_count": 5,
     "metadata": {},
     "output_type": "execute_result"
    }
   ],
   "source": [
    "print('Num train tissues', len(train_tissues))\n",
    "print('Num trans factors', len(tfs))\n",
    "\n",
    "display_cols = list(train_df.columns)[:]\n",
    "for i in train_tissues[2:] + tfs[2:]:\n",
    "    display_cols.remove(i)\n",
    "print('Dropping all but first two tissues, transcription factors.')\n",
    "train_df.loc[range(267, 273)][display_cols]"
   ]
  },
  {
   "cell_type": "code",
   "execution_count": 6,
   "metadata": {
    "collapsed": false
   },
   "outputs": [
    {
     "name": "stdout",
     "output_type": "stream",
     "text": [
      "Chromosome 1\n",
      "Total samples 379551\n",
      "Site lengths {2: 379551}\n",
      "Strand types {False: 1464, True: 378087}\n",
      "Known (test) sample site counts 7523\n",
      "Unknown (test) sample site counts 368411\n",
      "NaN ratio in all train samples 0.0849950103582\n",
      "NaN ratio in test 0.980179211753\n"
     ]
    }
   ],
   "source": [
    "assert len(train_df) == len(test_df)\n",
    "def count_unique(col):\n",
    "    return {x:sum(col == x) for x in set(col)}\n",
    "\n",
    "print('Chromosome 1')\n",
    "print('Total samples', len(train_df))\n",
    "print('Site lengths', count_unique(train_df['end'] - train_df['start']))\n",
    "print('Strand types', count_unique(train_df['strand']))\n",
    "print('Known (test) sample site counts', len(train_ix))\n",
    "print('Unknown (test) sample site counts', len(test_ix))\n",
    "print('NaN ratio in all train samples',\n",
    "      sum(sum(np.isnan(train_df[train_tissues].values))) / (len(train_df) * len(train_tissues)))\n",
    "print('NaN ratio in test', sum(np.isnan(test_df['missing'])) / len(test_df))\n",
    "assert sum(test_df['strand'] != train_df['strand']) == 0"
   ]
  },
  {
   "cell_type": "code",
   "execution_count": 9,
   "metadata": {
    "collapsed": false
   },
   "outputs": [
    {
     "data": {
      "image/png": "[encoded data removed]",
      "text/plain": [
       "<matplotlib.figure.Figure at 0x7faad799fe90>"
      ]
     },
     "metadata": {},
     "output_type": "display_data"
    },
    {
     "name": "stdout",
     "output_type": "stream",
     "text": [
      "avg length between known sites 50.2903483116\n",
      "sd of number of bp between sites 86.9614546017\n"
     ]
    },
    {
     "data": {
      "image/png": "[encoded data removed]",
      "text/plain": [
       "<matplotlib.figure.Figure at 0x7faad7915b50>"
      ]
     },
     "metadata": {},
     "output_type": "display_data"
    }
   ],
   "source": [
    "# Make sure our samples are pretty uniform from the genomic range\n",
    "def ticks(n): return np.arange(0.0, n) / n\n",
    "plt.plot(ticks(len(train_ix)), train_ix / len(train_df), '.')\n",
    "plt.plot([0, 1])\n",
    "plt.axes().set_aspect('equal')\n",
    "plt.xlabel('CpG sample')\n",
    "plt.ylabel('entire chromosome')\n",
    "plt.title('QQ-plot of site positions')\n",
    "plt.grid(True)\n",
    "plt.show()\n",
    "\n",
    "diffs = np.diff(train_ix)\n",
    "print('avg length between known sites', np.mean(diffs))\n",
    "print('sd of number of bp between sites', np.std(diffs))\n",
    "plt.plot(np.diff(train_ix))\n",
    "plt.xlabel('length between known sites')\n",
    "plt.ylabel('frequency')\n",
    "plt.title('histogram of adjacent site information')\n",
    "plt.grid(True)\n",
    "plt.show()"
   ]
  },
  {
   "cell_type": "code",
   "execution_count": 15,
   "metadata": {
    "collapsed": false
   },
   "outputs": [
    {
     "data": {
      "image/png": "[encoded data removed]",
      "text/plain": [
       "<matplotlib.figure.Figure at 0x7faad7853290>"
      ]
     },
     "metadata": {},
     "output_type": "display_data"
    }
   ],
   "source": [
    "# Observe nearby site correlations\n",
    "#TODO(vlad17): better sampling technique\n",
    "\n",
    "def correlation(x, y):\n",
    "    ix = np.where(~np.isnan(x) & ~np.isnan(y))\n",
    "    return pearsonr(x[ix], y[ix])[0]\n",
    "\n",
    "# Choose a random site, check neighbors within vicinity of 'reach'\n",
    "reach = list(range(30))\n",
    "reach = [-x for x in reversed(reach)] + reach[1:]\n",
    "def sample_corr(reach):\n",
    "    site = random.randint(max(reach), len(train_df) - max(reach) - 1)\n",
    "    y = np.array(train_df.iloc[site][train_tissues[:-1]]\n",
    "                 .values).astype(np.float64)\n",
    "    nbrs = [site + i for i in reach]\n",
    "    xs = np.array(train_df.iloc[nbrs][train_tissues[:-1]]\n",
    "                  .values).astype(np.float64)\n",
    "    return np.array([correlation(x, y) for x in xs])\n",
    "\n",
    "sample = 1000\n",
    "test = np.array([sample_corr(reach) for i in range(sample)])\n",
    "plt.errorbar(reach, np.mean(test, axis=0), fmt='-o', yerr=np.std(test, axis=0))\n",
    "plt.title('within tissue neighbor correlation (n={})'.format(sample))\n",
    "plt.ylabel('across tissue samples')\n",
    "plt.xlabel('site displacement')\n",
    "plt.show()"
   ]
  },
  {
   "cell_type": "code",
   "execution_count": 29,
   "metadata": {
    "collapsed": false
   },
   "outputs": [
    {
     "data": {
      "image/png": "[encoded data removed]",
      "text/plain": [
       "<matplotlib.figure.Figure at 0x7f77ba2b3dd0>"
      ]
     },
     "metadata": {},
     "output_type": "display_data"
    },
    {
     "name": "stdout",
     "output_type": "stream",
     "text": [
      "orig : rolling mean stddevs [4.8590050282935104, 4.6245001454552384, 11.339790875795508]\n"
     ]
    }
   ],
   "source": [
    "# Perhaps there are obvious sequence trends?\n",
    "def local_impute(data):\n",
    "    #http://stackoverflow.com/questions/9537543/replace-nans-in-numpy-array-with-closest-non-nan-value\n",
    "    mask = np.isnan(data)\n",
    "    data[mask] = np.interp(np.flatnonzero(mask), np.flatnonzero(~mask), data[~mask])\n",
    "    return data\n",
    "\n",
    "plt.figure(figsize=(10, 2))\n",
    "ratios = []\n",
    "plt.title('rolling mean (n = 1000) methylation levels in train tissues 0, 1, 33')\n",
    "plt.xlabel('genomic position')\n",
    "plt.ylabel('mean methyl. prop.')\n",
    "\n",
    "x = local_impute(np.copy(train_df['b0']))\n",
    "rolled = pd.Series(x).rolling(window=1000, win_type='boxcar').mean()\n",
    "ratios.append(np.std(x) / np.std(rolled))\n",
    "l0, = plt.plot(rolled, label='0')\n",
    "\n",
    "x = local_impute(np.copy(train_df['b1']))\n",
    "rolled = pd.Series(x).rolling(window=1000, win_type='boxcar').mean()\n",
    "ratios.append(np.std(x) / np.std(rolled))\n",
    "l1, = plt.plot(rolled, label='1')\n",
    "\n",
    "x = local_impute(np.copy(train_df['b33']))\n",
    "rolled = pd.Series(x).rolling(window=1000, win_type='boxcar').mean()\n",
    "ratios.append(np.std(x) / np.std(rolled))\n",
    "l33, = plt.plot(rolled, label='33')\n",
    "\n",
    "plt.legend(handles=[l0, l1, l33])\n",
    "plt.legend(bbox_to_anchor=(1.05, 1), loc=2, borderaxespad=0.)\n",
    "plt.show()\n",
    "print('orig : rolling mean stddevs', ratios)"
   ]
  },
  {
   "cell_type": "code",
   "execution_count": 17,
   "metadata": {
    "collapsed": false
   },
   "outputs": [
    {
     "name": "stdout",
     "output_type": "stream",
     "text": [
      "Training tissue sparsities [0.0, 0.0, 0.0, 0.0, 0.0, 0.0, 0.0, 0.0, 0.0, 0.0, 0.0, 0.0, 0.0, 0.0, 0.0, 0.0, 0.0, 0.0, 0.0, 0.0, 0.0, 0.0, 0.0, 0.0, 0.0, 0.0, 0.0, 0.0, 0.0, 0.0, 0.0, 0.0, 0.0, 0.97994999354500445]\n",
      "Sample sparsity 0.0\n"
     ]
    }
   ],
   "source": [
    "# Sparsity\n",
    "print('Training tissue sparsities', [(train_df[i] <= 0.01).sum() / len(train_df) for i in train_tissues])\n",
    "print('Sample sparsity', (test_df['filled'][train_ix] <= 0.01).sum() / len(train_ix))"
   ]
  },
  {
   "cell_type": "code",
   "execution_count": 30,
   "metadata": {
    "collapsed": false
   },
   "outputs": [
    {
     "name": "stdout",
     "output_type": "stream",
     "text": [
      "nans in mean-imputed 0\n",
      "nans in interpolated 0\n"
     ]
    }
   ],
   "source": [
    "# Do mean imputation on our training data.\n",
    "def mean_impute(data):\n",
    "    mask = np.isnan(data)\n",
    "    data[mask] = float(data.mean()) # just = m messes with serialization\n",
    "    return data\n",
    "train_df_imp = train_df\n",
    "train_df_int = train_df\n",
    "for i in train_tissues:\n",
    "    train_df_imp[i] = mean_impute(train_df[i].copy())\n",
    "    train_df_int[i] = local_impute(train_df[i].copy())\n",
    "print('nans in mean-imputed', np.isnan(train_df_imp[train_tissues]).sum().sum())\n",
    "print('nans in interpolated', np.isnan(train_df_int[train_tissues]).sum().sum())"
   ]
  },
  {
   "cell_type": "code",
   "execution_count": 20,
   "metadata": {
    "collapsed": false
   },
   "outputs": [
    {
     "data": {
      "image/png": "[encoded data removed]",
      "text/plain": [
       "<matplotlib.figure.Figure at 0x7faad7885cd0>"
      ]
     },
     "metadata": {},
     "output_type": "display_data"
    },
    {
     "name": "stdout",
     "output_type": "stream",
     "text": [
      "closest to test sample based on training data: 19\n"
     ]
    }
   ],
   "source": [
    "corr_mat = [[pearsonr(train_df_imp[a], train_df_imp[b])[0]\n",
    "             for a in train_tissues] for b in train_tissues]\n",
    "plt.imshow(corr_mat, interpolation='nearest', cmap=plt.cm.ocean)\n",
    "plt.title('chromosome correlation matrix')\n",
    "plt.colorbar()\n",
    "plt.tight_layout()\n",
    "plt.show()\n",
    "\n",
    "def pandas_rmse(a, b):\n",
    "    # http://stackoverflow.com/questions/27783494/root-mean-square-error-of-two-pandas-series\n",
    "    return math.sqrt(a.sub(b).pow(2).mean())\n",
    "\n",
    "l = [pandas_rmse(train_df_imp[t].iloc[train_ix], test_df['filled'][train_ix]) for t in train_tissues]\n",
    "print('closest to test sample based on training data:', l.index(min(l)))"
   ]
  },
  {
   "cell_type": "code",
   "execution_count": null,
   "metadata": {
    "collapsed": true
   },
   "outputs": [],
   "source": [
    "#TODO(vlad17): testing code should be in a diff notebook."
   ]
  },
  {
   "cell_type": "code",
   "execution_count": 40,
   "metadata": {
    "collapsed": false
   },
   "outputs": [],
   "source": [
    "# We'll only test on the well-behaved chromosomes similar to our\n",
    "# test chromosome according to the cluster above, testable:\n",
    "testable_tissues = ['b' + str(i) for i in range(19, 25)]\n",
    "closest = 'b19'\n",
    "# this is just an eyeball selection, but should prove good enough to\n",
    "# offer decent generalization via cross validation."
   ]
  },
  {
   "cell_type": "code",
   "execution_count": 13,
   "metadata": {
    "collapsed": false
   },
   "outputs": [],
   "source": [
    "# Define some evaluation functions\n",
    "\n",
    "def denanify(a, b):\n",
    "    mask = ~np.isnan(a) & ~np.isnan(b)\n",
    "    assert mask.sum() > 0\n",
    "    return a[mask], b[mask]\n",
    "\n",
    "def correct_half(a, b):\n",
    "    methylated_guess = a >= 0.5\n",
    "    methylated_exact = b >= 0.5\n",
    "    return (methylated_guess == methylated_exact).sum() / len(methylated_guess)\n",
    "\n",
    "# Function f should return its estimate for the value in 'test_tissue'\n",
    "# at each test_ix location. It gets its own copy of test_tissue, but\n",
    "# train_cols is shared.\n",
    "def eval_fold(f, train_cols, test_tissue, train_tissue_names):\n",
    "    nanned = test_tissue.copy()\n",
    "    nanned[test_ix] = np.nan\n",
    "    guess = f(train_cols, nanned, train_tissue_names)\n",
    "    assert sum(np.isnan(guess)) == 0\n",
    "    # test_ix doesn't have nans in the test_df['filled'] col, but\n",
    "    # within train_df there might be nans here.\n",
    "    exact = test_tissue[test_ix]\n",
    "    if not isinstance(guess, pd.Series):\n",
    "        guess = pd.Series(guess, index=exact.index)\n",
    "    assert len(guess) == len(exact)\n",
    "    guess, exact = denanify(guess, exact)\n",
    "    return np.array([pandas_rmse(guess, exact), correct_half(guess, exact),\n",
    "                     r2_score(exact, guess)])\n",
    "\n",
    "# Excludes the sparse chromosome from testing.\n",
    "def cv_folds(f, df=train_df, threading='multiprocessing',\n",
    "             additional_cols=[], test_tissues=testable_tissues):\n",
    "    rmse_acc = np.zeros(3)\n",
    "    ctr = 0\n",
    "    arguments = []\n",
    "    for t in test_tissues:\n",
    "        train_cols = train_tissues[:]\n",
    "        train_cols.remove(t)\n",
    "        arguments.append((f, df[train_cols + additional_cols], df[t], train_cols))\n",
    "    folds = [eval_fold(*i) for i in arguments] if not threading else \\\n",
    "            Parallel(n_jobs=min(nproc, len(arguments)), backend=threading) \\\n",
    "                (delayed(eval_fold)(*i) for i in arguments)\n",
    "    return sum(folds) / len(folds)\n",
    "\n",
    "def perfstr(rmse_acc):\n",
    "    return 'rmse {} methylated acc {} R^2 {}'.format(*rmse_acc)"
   ]
  },
  {
   "cell_type": "code",
   "execution_count": 14,
   "metadata": {
    "collapsed": false
   },
   "outputs": [
    {
     "name": "stdout",
     "output_type": "stream",
     "text": [
      "interpolation rmse 0.20477740780970047 methylated acc 0.8897997073920161 R^2 -0.6131129817291857\n",
      "same tissue mean rmse 0.16247889234653728 methylated acc 0.9376303458184835 R^2 -0.015392692439529601\n"
     ]
    }
   ],
   "source": [
    "# No trends.\n",
    "# Let's try imputing from but clearly we can impute from local neighbor data.\n",
    "# Try using no information for our test chromosome as a baseline.\n",
    "\n",
    "# Two simple approaches, with no information from other samples\n",
    "\n",
    "def interpolation(cols, partial, train_tissue_names):\n",
    "    return local_impute(partial).iloc[test_ix]\n",
    "print('interpolation', perfstr(cv_folds(interpolation)))\n",
    "\n",
    "def same_sample_mean(cols, partial, train_tissue_names):\n",
    "    return mean_impute(partial).iloc[test_ix]\n",
    "print('same tissue mean', perfstr(cv_folds(same_sample_mean)))"
   ]
  },
  {
   "cell_type": "code",
   "execution_count": 15,
   "metadata": {
    "collapsed": false
   },
   "outputs": [
    {
     "name": "stdout",
     "output_type": "stream",
     "text": [
      "diff tissue mean rmse 0.1318694424931256 methylated acc 0.9536961889483936 R^2 0.3256145169853153\n"
     ]
    }
   ],
   "source": [
    "# As a dual approach, we can try using only information from the remaining tissues\n",
    "# For example, we might try to take a mean of methylation values along the same site\n",
    "def diff_sample_mean(cols, partial, train_tissue_names):\n",
    "    return cols[train_tissue_names].iloc[test_ix].mean(axis=1)\n",
    "print('diff tissue mean', perfstr(cv_folds(diff_sample_mean)))"
   ]
  },
  {
   "cell_type": "code",
   "execution_count": 16,
   "metadata": {
    "collapsed": false
   },
   "outputs": [
    {
     "name": "stdout",
     "output_type": "stream",
     "text": [
      "1NN rmse 0.09120396089592973 methylated acc 0.968845483260091 R^2 0.6777635739603453\n"
     ]
    }
   ],
   "source": [
    "def nearest_neighbor(cols, partial, train_tissue_names):\n",
    "    nbr = min((pandas_rmse(cols[t].iloc[train_ix], partial.iloc[train_ix]), t)\n",
    "              for t in train_tissue_names)[1]\n",
    "    return cols[nbr].iloc[test_ix]\n",
    "print('1NN', perfstr(cv_folds(nearest_neighbor, df=train_df_imp)))"
   ]
  },
  {
   "cell_type": "code",
   "execution_count": 18,
   "metadata": {
    "collapsed": false
   },
   "outputs": [
    {
     "name": "stdout",
     "output_type": "stream",
     "text": [
      "only tissue data\n",
      "\tOLS              rmse 0.069186 methyl acc 0.976359 R^2 0.813765\n",
      "\tRidge            rmse 0.069097 methyl acc 0.976369 R^2 0.814253\n",
      "\tLasso            rmse 0.069076 methyl acc 0.976358 R^2 0.814326\n",
      "\tRFR              rmse 0.069235 methyl acc 0.975851 R^2 0.813399\n",
      "\tElasticNet       rmse 0.069056 methyl acc 0.976347 R^2 0.814434\n",
      "\tBEST ElasticNet  (R^2 = 0.8144342091337995)\n",
      "only metadata\n",
      "\tOLS              rmse 42472398862.237488 methyl acc 0.937207 R^2 -75892152557656353013760.000000\n",
      "\tRidge            rmse 0.154997 methyl acc 0.938248 R^2 0.075668\n",
      "\tLasso            rmse 0.154597 methyl acc 0.938605 R^2 0.080309\n",
      "\tRFR              rmse 0.156734 methyl acc 0.936109 R^2 0.054276\n",
      "\tElasticNet       rmse 0.154603 methyl acc 0.938572 R^2 0.080293\n",
      "\tBEST Lasso  (R^2 = 0.08030944044610151)\n",
      "only neighbors\n",
      "\tOLS              rmse 0.120703 methyl acc 0.953302 R^2 0.437951\n",
      "\tRidge            rmse 0.120465 methyl acc 0.953381 R^2 0.440225\n",
      "\tLasso            rmse 0.120336 methyl acc 0.953469 R^2 0.441388\n",
      "\tRFR              rmse 0.122624 methyl acc 0.952293 R^2 0.419997\n",
      "\tElasticNet       rmse 0.120148 methyl acc 0.953538 R^2 0.443131\n",
      "\tBEST ElasticNet  (R^2 = 0.4431305281559401)\n"
     ]
    }
   ],
   "source": [
    "# Use the well-formedness of the other-tissue data to train a basic lm\n",
    "def sklearn_model(lm, cols, partial, train_tissue_names):\n",
    "    lm.fit(cols.iloc[train_ix], partial.iloc[train_ix])\n",
    "    return lm.predict(cols.iloc[test_ix])\n",
    "\n",
    "def log_range(lo, hi): return [10 ** i for i in range(lo, hi)]\n",
    "\n",
    "def sklearn_model_only_metadata(lm, cols, partial, train_tissue_names):\n",
    "    f = list(set(cols.columns) - set(train_tissue_names))\n",
    "    lm.fit(cols[f].iloc[train_ix], partial.iloc[train_ix])\n",
    "    return lm.predict(cols[f].iloc[test_ix])\n",
    "\n",
    "lmmodels = [\n",
    "    ('OLS', linear_model.LinearRegression()),\n",
    "    ('Ridge', linear_model.RidgeCV(alphas=log_range(-1, 4), cv=8)),\n",
    "    ('Lasso', linear_model.LassoCV(alphas=log_range(-6,-1), cv=8)),\n",
    "    ('RFR', ensemble.RandomForestRegressor(n_estimators=100)),\n",
    "    ('ElasticNet', linear_model.ElasticNetCV(l1_ratio=np.arange(.1, 1, .1), cv=8)),\n",
    "    #('ARDRegression', linear_model.ARDRegression())\n",
    "]\n",
    "\n",
    "df = train_df_int\n",
    "#df = train_df_imp\n",
    "\n",
    "def run_models(cv_fun):\n",
    "    best = None, [None, None, -np.inf], None\n",
    "    for name, model in lmmodels:\n",
    "        perf = cv_fun(model)\n",
    "        if perf[2] > best[1][2]: best = name, perf\n",
    "        print('\\t{: <16} rmse {:04f} methyl acc {:04f} R^2 {:04f}'.format(name, *perf))\n",
    "    print('\\tBEST', best[0], ' (R^2 = {})'.format(best[1][2]))\n",
    "\n",
    "print('only tissue data')\n",
    "run_models(lambda model: cv_folds(partial(sklearn_model, model), df=df))\n",
    "\n",
    "print('only metadata')\n",
    "metadata_names = list(tfs) + ['strand']\n",
    "run_models(lambda model: cv_folds(partial(sklearn_model_only_metadata, model),\n",
    "                                  df=df, additional_cols=metadata_names))\n",
    "\n",
    "for t in train_tissues:\n",
    "    df[t + 'prev'] = df[t].shift(-1)\n",
    "    df[t + 'prev'].iloc[len(df)-1] = df[t][len(df)-1]\n",
    "    df[t + 'next'] = df[t].shift(1)\n",
    "    df[t + 'next'].iloc[0] = df[t][0]\n",
    "\n",
    "print('only neighbors')\n",
    "nbrs_names = [x + 'prev' for x in train_tissues] + [x + 'next' for x in train_tissues]\n",
    "run_models(lambda model: cv_folds(partial(sklearn_model_only_metadata, model),\n",
    "                                  df=df, additional_cols=nbrs_names))"
   ]
  },
  {
   "cell_type": "code",
   "execution_count": 19,
   "metadata": {
    "collapsed": false
   },
   "outputs": [
    {
     "name": "stdout",
     "output_type": "stream",
     "text": [
      "memory-based aggr CF over different similarities\n",
      "cosine rmse 0.13076129635912162 methylated acc 0.9544960202961729 R^2 0.3368235828848261\n",
      "canberra rmse 0.12854128714662824 methylated acc 0.9556251939636257 R^2 0.3591848371114346\n",
      "correlation rmse 0.10269469361348192 methylated acc 0.9639252537700195 R^2 0.5919495306590167\n"
     ]
    }
   ],
   "source": [
    "def membased_cf(simil, cols, partial, train_tissue_names):\n",
    "    # https://en.wikipedia.org/wiki/Collaborative_filtering\n",
    "    similarities = np.array([simil(cols[t].iloc[train_ix],\n",
    "                                   partial.iloc[train_ix])\n",
    "                             for t in train_tissue_names])\n",
    "    k = np.sum(np.fabs(similarities))\n",
    "    others = cols[train_tissue_names].iloc[test_ix].values\n",
    "    return others.dot(similarities) / k\n",
    "\n",
    "def cosine_similarity(x, y): return 1 - distance.cosine(x, y)\n",
    "def canberra_similarity(x, y): return len(x) - distance.canberra(x, y)\n",
    "def correlation_similarity(x, y):\n",
    "    c = distance.correlation(x, y)\n",
    "    if np.isnan(c): return 0\n",
    "    else: return 1 - c\n",
    "\n",
    "models = [\n",
    "    ('cosine', cosine_similarity),\n",
    "    ('canberra', canberra_similarity),\n",
    "    ('correlation', correlation_similarity)\n",
    "]\n",
    "print('memory-based aggr CF over different similarities')\n",
    "for name, dist in models:\n",
    "    print(name, perfstr(cv_folds(partial(membased_cf, dist), df=train_df_imp)))\n",
    "\n",
    "# TODO: utilize local values somehow: expand features to neighbors somehow?\n",
    "# TODO: regularized SVD-based CF (need to homebrew with tensorflow)\n",
    "# https://github.com/vlad17/TensorFlow-Learn/blob/master/notebooks/mnist.ipynb for svd, above\n",
    "# TODO: GMM on full tissue samples, then do a marginalized posterior from the limited new\n",
    "# sample data (also needs a homebrew EM). Would use a diagonal, +1, -1 band covar matrix and EM algo.\n",
    "# TODO polynomial multiplication with indicators on the feature set."
   ]
  },
  {
   "cell_type": "code",
   "execution_count": 42,
   "metadata": {
    "collapsed": false
   },
   "outputs": [
    {
     "name": "stdout",
     "output_type": "stream",
     "text": [
      "rmse lm(metadata) 0.15914248602399436\n",
      "rmse lm(tissue) 0.0615562563736748\n",
      "rmse lm(nbrs) 0.11946044593081\n",
      "rmse cf 0.10307612585646515\n"
     ]
    }
   ],
   "source": [
    "useful_cols = list(df.columns)\n",
    "useful_cols.remove('chromosome')\n",
    "useful_cols.remove('start')\n",
    "useful_cols.remove('end')\n",
    "\n",
    "# Let's take a closer look at lm perf for one of our folds.\n",
    "train_cols_fold1 = useful_cols[:]\n",
    "train_cols_fold1.remove(closest)\n",
    "\n",
    "test_col_fold1 = closest\n",
    "train_tissues_fold1 = train_tissues[:]\n",
    "train_tissues_fold1.remove(closest)\n",
    "\n",
    "lmd = dict(lmmodels)\n",
    "\n",
    "guess_tissue = sklearn_model(lmd['ElasticNet'], df[train_tissues_fold1],\n",
    "                             df[test_col_fold1], [])\n",
    "guess_metadata = sklearn_model(lmd['Lasso'], df[metadata_names],\n",
    "                               df[test_col_fold1], [])\n",
    "guess_cf = membased_cf(correlation_similarity, df[train_tissues_fold1],\n",
    "                       df[test_col_fold1], train_tissues_fold1)\n",
    "guess_nbrs = sklearn_model(lmd['ElasticNet'], df[nbrs_names],\n",
    "                           df[test_col_fold1], [])\n",
    "\n",
    "exact = train_df_imp[closest].iloc[test_ix]\n",
    "\n",
    "def print_instance_evaluation(name, guess):\n",
    "    rmse = math.sqrt(mean_squared_error(exact, guess))\n",
    "    acc = correct_half(exact, guess)\n",
    "    r2 = r2_score(exact, guess)\n",
    "    print('{: <16} rmse {:04f} methyl acc {:04f} R^2 {:04f}'\n",
    "          .format(name, rmse, acc, r2))\n",
    "print('rmse lm(metadata)', math.sqrt(mean_squared_error(exact, guess_metadata)))\n",
    "print('rmse lm(tissue)', math.sqrt(mean_squared_error(exact, guess_tissue)))\n",
    "print('rmse lm(nbrs)', math.sqrt(mean_squared_error(exact, guess_nbrs)))\n",
    "print('rmse cf', math.sqrt(mean_squared_error(exact, guess_cf)))"
   ]
  },
  {
   "cell_type": "code",
   "execution_count": 74,
   "metadata": {
    "collapsed": false
   },
   "outputs": [
    {
     "name": "stdout",
     "output_type": "stream",
     "text": [
      "max corr (('tissue', 'CF'), 0.6672206595636575)\n",
      "avg corr 0.543763026004\n"
     ]
    }
   ],
   "source": [
    "res_tissue = guess_tissue - exact\n",
    "res_metadata = guess_metadata - exact\n",
    "res_cf = guess_cf - exact\n",
    "res_nbr = guess_nbrs - exact\n",
    "\n",
    "residuals = [res_tissue, res_metadata, res_cf, res_nbr]\n",
    "names = ['tissue', 'metadata', 'CF', 'neighbors']\n",
    "tbl = [((ni, nj), scipy.stats.pearsonr(i, j)[0]) for (ni, i), (nj, j) in combinations(zip(names, residuals), 2)]\n",
    "(names, corr) = zip(*tbl)\n",
    "print('max corr', max(tbl, key=(lambda x: x[1])))\n",
    "print('avg corr', sum(corr) / len(corr))"
   ]
  },
  {
   "cell_type": "code",
   "execution_count": 44,
   "metadata": {
    "collapsed": false
   },
   "outputs": [
    {
     "name": "stdout",
     "output_type": "stream",
     "text": [
      "tissue + metadata + CF + nbrs\n",
      "\tOLS              rmse 918294465407.820923 methyl acc 0.505070 R^2 -46089434015125237978365952.000000\n",
      "\tRidge            rmse 0.065632 methyl acc 0.978640 R^2 0.831743\n",
      "\tLasso            rmse 0.065382 methyl acc 0.978741 R^2 0.832932\n",
      "\tRFR              rmse 0.067801 methyl acc 0.976716 R^2 0.820712\n",
      "\tElasticNet       rmse 0.065386 methyl acc 0.978702 R^2 0.832885\n",
      "\tBEST Lasso  (R^2 = 0.8329319767440063)\n",
      "tissue + metadata + CF\n",
      "\tOLS              rmse 0.069344 methyl acc 0.976391 R^2 0.812837\n",
      "\tRidge            rmse 0.068907 methyl acc 0.976405 R^2 0.815195\n",
      "\tLasso            rmse 0.068943 methyl acc 0.976432 R^2 0.815013\n",
      "\tRFR              rmse 0.069135 methyl acc 0.975969 R^2 0.813892\n",
      "\tElasticNet       rmse 0.068888 methyl acc 0.976413 R^2 0.815304\n",
      "\tBEST ElasticNet  (R^2 = 0.8153037818902217)\n",
      "tissue + metadata + CF\n",
      "\tOLS              rmse 0.065802 methyl acc 0.978831 R^2 0.830862\n",
      "\tRidge            rmse 0.065698 methyl acc 0.978804 R^2 0.831421\n",
      "\tLasso            rmse 0.065402 methyl acc 0.978778 R^2 0.832849\n",
      "\tRFR              rmse 0.067847 methyl acc 0.976681 R^2 0.820486\n",
      "\tElasticNet       rmse 0.065437 methyl acc 0.978795 R^2 0.832692\n",
      "\tBEST Lasso  (R^2 = 0.8328491448416543)\n",
      "tissue + CF\n",
      "\tOLS              rmse 0.069204 methyl acc 0.976370 R^2 0.813659\n",
      "\tRidge            rmse 0.069097 methyl acc 0.976368 R^2 0.814252\n",
      "\tLasso            rmse 0.069079 methyl acc 0.976357 R^2 0.814314\n",
      "\tRFR              rmse 0.069228 methyl acc 0.975896 R^2 0.813427\n",
      "\tElasticNet       rmse 0.069056 methyl acc 0.976345 R^2 0.814433\n",
      "\tBEST ElasticNet  (R^2 = 0.8144334092808666)\n",
      "tissue + nbrs\n",
      "\tOLS              rmse 0.065802 methyl acc 0.978831 R^2 0.830862\n",
      "\tRidge            rmse 0.065698 methyl acc 0.978804 R^2 0.831421\n",
      "\tLasso            rmse 0.065402 methyl acc 0.978778 R^2 0.832849\n",
      "\tRFR              rmse 0.067847 methyl acc 0.976681 R^2 0.820486\n",
      "\tElasticNet       rmse 0.065437 methyl acc 0.978795 R^2 0.832692\n",
      "\tBEST Lasso  (R^2 = 0.8328491448416543)\n",
      "tissue + metadata\n",
      "\tOLS              rmse 353236847076.897034 methyl acc 0.355932 R^2 -10338119263288304768909312.000000\n",
      "\tRidge            rmse 0.068906 methyl acc 0.976408 R^2 0.815196\n",
      "\tLasso            rmse 0.068943 methyl acc 0.976432 R^2 0.815011\n",
      "\tRFR              rmse 0.069116 methyl acc 0.975938 R^2 0.813984\n",
      "\tElasticNet       rmse 0.068889 methyl acc 0.976413 R^2 0.815302\n",
      "\tBEST ElasticNet  (R^2 = 0.8153016662036379)\n"
     ]
    }
   ],
   "source": [
    "def ensemble_regression(lm, cols, partial, train_tissue_names):\n",
    "    simil = correlation_similarity\n",
    "    similarities = np.array([simil(cols[t].iloc[train_ix],\n",
    "                                   partial.iloc[train_ix])\n",
    "                             for t in train_tissue_names])\n",
    "    k = np.sum(np.fabs(similarities))\n",
    "    others = cols[train_tissue_names].values\n",
    "    cf = pd.Series(others.dot(similarities) / k, index=cols.index)\n",
    "    cols = cols.copy(deep=False)\n",
    "    cols['cf'] = cf\n",
    "    return sklearn_model(lm, cols, partial, train_tissue_names)\n",
    "print('tissue + metadata + CF + nbrs')\n",
    "run_models(lambda model: cv_folds(partial(ensemble_regression, model),\n",
    "                                  df=df, additional_cols=(metadata_names + nbrs_names)))\n",
    "print('tissue + metadata + CF')\n",
    "run_models(lambda model: cv_folds(partial(ensemble_regression, model),\n",
    "                                  df=df, additional_cols=metadata_names))\n",
    "print('tissue + nbrs + CF')\n",
    "run_models(lambda model: cv_folds(partial(ensemble_regression, model),\n",
    "                                  df=df, additional_cols=nbrs_names))\n",
    "print('tissue + CF')\n",
    "run_models(lambda model: cv_folds(partial(ensemble_regression, model),\n",
    "                                  df=df))\n",
    "print('tissue + nbrs')\n",
    "run_models(lambda model: cv_folds(partial(ensemble_regression, model),\n",
    "                                  df=df, additional_cols=nbrs_names))\n",
    "print('tissue + metadata')\n",
    "run_models(lambda model: cv_folds(partial(sklearn_model, model),\n",
    "                                  df=df, additional_cols=metadata_names))"
   ]
  },
  {
   "cell_type": "code",
   "execution_count": 49,
   "metadata": {
    "collapsed": false
   },
   "outputs": [],
   "source": [
    "# Having chosen our best model, organize a true training and test set\n",
    "# for our holdout tissue\n",
    "similarities = np.array([correlation_similarity(df[t].iloc[train_ix],\n",
    "                                                test_df['filled'].iloc[train_ix])\n",
    "                         for t in train_tissues])\n",
    "k = np.sum(np.fabs(similarities))\n",
    "cf = pd.Series(df[train_tissues].values.dot(similarities) / k, index=df.index)\n",
    "df_with_cf = df[useful_cols]\n",
    "df_with_cf['cf'] = cf"
   ]
  },
  {
   "cell_type": "code",
   "execution_count": 67,
   "metadata": {
    "collapsed": false
   },
   "outputs": [
    {
     "data": {
      "text/plain": [
       "{'alpha': 0.00015999999999999982}"
      ]
     },
     "execution_count": 67,
     "metadata": {},
     "output_type": "execute_result"
    }
   ],
   "source": [
    "# Grid search narrowed down by re-running same training set\n",
    "# (without looking at test accuracy)\n",
    "best_combined = linear_model.Lasso()\n",
    "grid = GridSearchCV(best_combined, {'alpha': np.arange(1e-4, 2e-4, 1e-6)}, cv=50, n_jobs=nproc)\n",
    "grid.fit(df_with_cf.iloc[train_ix], test_df['filled'].iloc[train_ix])\n",
    "grid.best_params_"
   ]
  },
  {
   "cell_type": "code",
   "execution_count": 68,
   "metadata": {
    "collapsed": false
   },
   "outputs": [
    {
     "name": "stdout",
     "output_type": "stream",
     "text": [
      "Ensemble on test: rmse 0.059271 methyl acc 0.980633 R^2 0.877143\n"
     ]
    }
   ],
   "source": [
    "guess = grid.predict(df_with_cf.iloc[test_ix])\n",
    "exact = test_df['filled'].iloc[test_ix].values\n",
    "\n",
    "rmse = math.sqrt(mean_squared_error(exact, guess))\n",
    "acc = correct_half(exact, guess)\n",
    "r2 = r2_score(exact, guess)\n",
    "res = guess - exact\n",
    "\n",
    "print('Ensemble on test: rmse {:04f} methyl acc {:04f} R^2 {:04f}'.format(rmse, acc, r2))"
   ]
  },
  {
   "cell_type": "code",
   "execution_count": 69,
   "metadata": {
    "collapsed": false
   },
   "outputs": [
    {
     "data": {
      "image/png": "[encoded data removed]",
      "text/plain": [
       "<matplotlib.figure.Figure at 0x7f2f8bff85d0>"
      ]
     },
     "metadata": {},
     "output_type": "display_data"
    },
    {
     "name": "stdout",
     "output_type": "stream",
     "text": [
      "sd ratios [4.6196193481454584, 4.1785891525192111]\n"
     ]
    },
    {
     "data": {
      "image/png": "[encoded data removed]",
      "text/plain": [
       "<matplotlib.figure.Figure at 0x7f2f910a6150>"
      ]
     },
     "metadata": {},
     "output_type": "display_data"
    }
   ],
   "source": [
    "plt.hist(res, bins=50)\n",
    "plt.xlabel('residual')\n",
    "plt.ylabel('frequency')\n",
    "plt.title('residuals for ensemble')\n",
    "plt.grid(True)\n",
    "plt.show()\n",
    "\n",
    "plt.figure(figsize=(10, 2))\n",
    "ratios = []\n",
    "plt.title('rolling mean (n = 1000) methylation levels')\n",
    "plt.xlabel('genomic position')\n",
    "plt.ylabel('mean methyl. prop.')\n",
    "\n",
    "ratios = []\n",
    "\n",
    "x = local_impute(np.copy(test_df['filled']))\n",
    "rolled = pd.Series(x).rolling(window=1000, win_type='boxcar').mean()\n",
    "ratios.append(np.std(x) / np.std(rolled))\n",
    "actual, = plt.plot(rolled, label='exact')\n",
    "\n",
    "x = grid.predict(df_with_cf)\n",
    "rolled = pd.Series(x).rolling(window=1000, win_type='boxcar').mean()\n",
    "ratios.append(np.std(x) / np.std(rolled))\n",
    "guess, = plt.plot(rolled, label='regression', alpha=0.7)\n",
    "\n",
    "print('sd ratios', ratios)\n",
    "plt.legend(handles=[actual,guess])\n",
    "plt.legend(bbox_to_anchor=(1.05, 1), loc=2, borderaxespad=0.)\n",
    "plt.show()"
   ]
  },
  {
   "cell_type": "code",
   "execution_count": 71,
   "metadata": {
    "collapsed": false
   },
   "outputs": [
    {
     "data": {
      "text/plain": [
       "(0.0095296811232219118, 21.34088292175987)"
      ]
     },
     "execution_count": 71,
     "metadata": {},
     "output_type": "execute_result"
    }
   ],
   "source": [
    "np.isnan(test_df['filled']).mean(), 4.6196193481454584 ** 2"
   ]
  },
  {
   "cell_type": "markdown",
   "metadata": {},
   "source": [
    " regularized iterative SVD: for every present user U and some number of factors (dim V)\n",
    " $\\min \\sum_{i,j \\in R} (r_{i,j} - \\mathbf{U}_i \\  \\mathbf{V}_j^T) +  \\lambda (\\sum_i \\lVert \\mathbf{U}_i \\rVert^2   \\sum_j \\lVert \\mathbf{V}_j \\rVert^2)$"
   ]
  },
  {
   "cell_type": "code",
   "execution_count": 80,
   "metadata": {
    "collapsed": false
   },
   "outputs": [
    {
     "name": "stdout",
     "output_type": "stream",
     "text": [
      "chr11.txt Ensemble on test: rmse 0.058498 methyl acc 0.980540 R^2 0.881261 alpha 0.000187\n",
      "chr1.txt Ensemble on test: rmse 0.059487 methyl acc 0.980514 R^2 0.876247 alpha 0.000186\n",
      "chr2.txt Ensemble on test: rmse 0.058964 methyl acc 0.981492 R^2 0.871433 alpha 0.000192\n",
      "chr6.txt Ensemble on test: rmse 0.058874 methyl acc 0.981250 R^2 0.874899 alpha 0.000198\n",
      "chr7.txt Ensemble on test: rmse 0.059009 methyl acc 0.980331 R^2 0.870044 alpha 0.000169\n"
     ]
    }
   ],
   "source": [
    "# See how the other chromosomes did (results from running and saving script\n",
    "# check_chromosome.py)\n",
    "# Note R^2 for chr1 is different because of random initialization.\n",
    "del i\n",
    "! for i in chr*.txt; do echo $i $(tail -1 $i); done"
   ]
  },
  {
   "cell_type": "markdown",
   "metadata": {},
   "source": [
    "## GMM on methylation values"
   ]
  },
  {
   "cell_type": "code",
   "execution_count": 36,
   "metadata": {
    "collapsed": false
   },
   "outputs": [
    {
     "name": "stdout",
     "output_type": "stream",
     "text": [
      "379551\n",
      "34\n",
      "(34, 100)\n",
      "[ 0.05882353  0.02941176  0.32352941  0.41176471  0.17647059]\n",
      "[[ 0.64772899  0.64772899  0.64772899  0.64772899  0.64772899  0.64772899\n",
      "   0.64772899  0.64772899  0.64772899  0.64772899  0.64772899  0.64772899\n",
      "   0.64772899  0.64772899  0.64772899  0.64772899  0.64772899  0.64772899\n",
      "   0.64772899  0.64772899  0.64772899  0.64772899  0.38067491  0.64772899\n",
      "   0.36257536  0.44660898  0.38067491  0.67875183  0.64772899  0.64772899\n",
      "   0.5796139   0.63708518  0.57258065  0.55375183  0.62375183  0.58152963\n",
      "   0.59786948  0.60375183  0.60809963  0.73232327  0.73232327  0.64772899\n",
      "   0.75112023  0.71551653  0.64772899  0.64772899  0.64772899  0.76027358\n",
      "   0.64772899  0.76027358  0.76671478  0.64772899  0.60375183  0.64857943\n",
      "   0.64772899  0.45759799  0.44660898  0.4704185   0.72041848  0.6298388\n",
      "   0.75091575  0.62193363  0.58333335  0.74819628  0.70375183  0.73708518\n",
      "   0.64772899  0.64772899  0.74819628  0.63708518  0.73557003  0.6608947\n",
      "   0.70851373  0.74125183  0.71551653  0.64772899  0.68836723  0.6458571\n",
      "   0.64750183  0.6608947   0.75613278  0.64772899  0.72682876  0.75613278\n",
      "   0.64772899  0.67331705  0.64772899  0.64772899  0.58946613  0.64772899\n",
      "   0.54065937  0.68470423  0.65669303  0.71284273  0.71284273  0.64772899\n",
      "   0.7734488   0.7501804   0.72041848  0.76027358]\n",
      " [ 0.          0.          0.          0.          0.          0.          0.\n",
      "   0.          0.          0.          0.          0.          0.          0.\n",
      "   0.          0.          0.          0.          0.          0.          0.\n",
      "   0.          0.          0.          0.          0.          0.          0.\n",
      "   0.          0.          0.          0.          0.          0.          0.\n",
      "   0.          0.          0.          0.          0.          0.          0.\n",
      "   0.          0.          0.          0.          0.          0.          0.\n",
      "   0.          0.          0.          0.          0.          0.          0.\n",
      "   0.          0.          0.          0.          0.          0.          0.\n",
      "   0.          0.          0.          0.          0.          0.          0.\n",
      "   0.          0.          0.          0.          0.          0.          0.\n",
      "   0.          0.          0.          0.          0.          0.          0.\n",
      "   0.          0.          0.          0.          0.          0.          0.\n",
      "   0.          0.          0.          0.          0.          0.          0.\n",
      "   0.          0.        ]\n",
      " [ 0.63005428  0.71991488  0.87285772  0.89353482  0.88911876  0.69989982\n",
      "   0.7281841   0.52095313  0.86494544  0.79500928  0.53170896  0.8411799\n",
      "   0.86158135  0.8422095   0.54550831  0.83629298  0.70106544  0.86958909\n",
      "   0.85385146  0.49156392  0.76209249  0.62855647  0.32851843  0.2280548\n",
      "   0.14863208  0.35494016  0.29285433  0.71818706  0.41629251  0.3497042\n",
      "   0.88400942  0.73808017  0.8857211   0.84018467  0.82813513  0.8537471\n",
      "   0.85593209  0.81885407  0.71605629  0.84012898  0.86207841  0.89272443\n",
      "   0.85823696  0.91941618  0.88015909  0.92292965  0.7739404   0.88624792\n",
      "   0.91774837  0.81369741  0.84210762  0.81545737  0.75714985  0.57785161\n",
      "   0.69279424  0.3770733   0.35096154  0.61338269  0.79293665  0.72915555\n",
      "   0.67878017  0.57896816  0.51706613  0.75496349  0.47705517  0.55289739\n",
      "   0.71181432  0.73728758  0.81866677  0.64130378  0.86378429  0.85832812\n",
      "   0.86714796  0.86419634  0.85900662  0.86270018  0.87471565  0.66648153\n",
      "   0.59837978  0.75841123  0.84120402  0.763919    0.8798652   0.83452111\n",
      "   0.91135178  0.92078195  0.90273965  0.85488184  0.80744394  0.48203045\n",
      "   0.59091226  0.82614237  0.70024399  0.8959076   0.85805296  0.89008906\n",
      "   0.85513946  0.85615309  0.84556092  0.89477795]\n",
      " [ 0.91155636  0.92796001  0.92764532  0.9130014   0.93163104  0.89382248\n",
      "   0.89606508  0.82104215  0.88629347  0.89199922  0.84454676  0.89254418\n",
      "   0.89455882  0.89428717  0.82576573  0.89766408  0.87162478  0.89202581\n",
      "   0.90216526  0.84524346  0.79720543  0.82273307  0.50937326  0.29006693\n",
      "   0.12210222  0.41448676  0.4093016   0.6278598   0.53171533  0.49591102\n",
      "   0.88578823  0.8485079   0.92746165  0.89225866  0.92527346  0.88699408\n",
      "   0.90500668  0.89571125  0.83112386  0.82498862  0.82534919  0.90818386\n",
      "   0.86605941  0.92249617  0.91605958  0.91676245  0.87771606  0.86838879\n",
      "   0.89529825  0.85000846  0.8635758   0.88769207  0.73004502  0.7217723\n",
      "   0.93327834  0.9169324   0.8940297   0.87427396  0.79684231  0.83740998\n",
      "   0.79361093  0.88056202  0.85578839  0.8695907   0.81038708  0.83621989\n",
      "   0.87082332  0.86306309  0.90535899  0.78994449  0.8849376   0.88390538\n",
      "   0.89451465  0.8977626   0.90972814  0.86316095  0.88239706  0.87065739\n",
      "   0.79306945  0.89479082  0.89568457  0.81487349  0.9179376   0.79395177\n",
      "   0.93675776  0.92258576  0.86735254  0.88669236  0.73266628  0.8227784\n",
      "   0.7009624   0.8955442   0.68325498  0.89784188  0.83264129  0.92381438\n",
      "   0.91113073  0.85578738  0.82508297  0.87311082]\n",
      " [ 0.73014799  0.80734566  0.83703581  0.8725299   0.84547566  0.76954578\n",
      "   0.75503263  0.77101352  0.90925604  0.90146487  0.80442698  0.91030839\n",
      "   0.93519066  0.91146032  0.82214702  0.92283305  0.84861303  0.93196544\n",
      "   0.91956947  0.77399945  0.7860259   0.61082349  0.33113872  0.21101499\n",
      "   0.17515119  0.40554727  0.30976863  0.52631108  0.4192389   0.40766576\n",
      "   0.83077108  0.8101443   0.88412741  0.75976124  0.784251    0.84591556\n",
      "   0.83442842  0.81730195  0.71034532  0.91989882  0.93358575  0.94018563\n",
      "   0.88135377  0.90979602  0.89272341  0.94377892  0.91627366  0.89268417\n",
      "   0.88662103  0.88365896  0.79271884  0.8352484   0.7772565   0.61596567\n",
      "   0.79009633  0.52098547  0.52498877  0.60600549  0.74964906  0.8337456\n",
      "   0.76458354  0.77965314  0.67130975  0.84745584  0.67966243  0.81394519\n",
      "   0.89825988  0.83546704  0.92833238  0.68685046  0.87199057  0.89185439\n",
      "   0.88157148  0.92920772  0.88784793  0.87401088  0.84748431  0.6177336\n",
      "   0.60493014  0.76449479  0.91831444  0.9405822   0.88602152  0.88371801\n",
      "   0.95099007  0.93600487  0.94239213  0.87262277  0.75078085  0.52182918\n",
      "   0.5863238   0.70250953  0.70773286  0.8615508   0.84568118  0.94431899\n",
      "   0.90885463  0.840452    0.83454053  0.86156089]]\n"
     ]
    }
   ],
   "source": [
    "# Try running GMM on first hundred methylation values for each sample\n",
    "# print(train_df)\n",
    "\n",
    "# print(train_df_imp)\n",
    "train_methyls = train_df_imp[train_tissues].values\n",
    "print(len(train_methyls))\n",
    "\n",
    "train_methyls_T = train_methyls.T\n",
    "print(len(train_methyls_T))\n",
    "\n",
    "train_methyls_T_100 = train_methyls_T[:, :100]\n",
    "print(train_methyls_T_100.shape)\n",
    "\n",
    "gmm = mixture.GMM(n_components=5)\n",
    "gmm.fit(train_methyls_T_100)\n",
    "\n",
    "# print(gmm.means_)\n",
    "# print(gmm.covars_)\n",
    "print(gmm.weights_)\n",
    "print(gmm.means_)\n"
   ]
  },
  {
   "cell_type": "code",
   "execution_count": null,
   "metadata": {
    "collapsed": true
   },
   "outputs": [],
   "source": []
  },
  {
   "cell_type": "raw",
   "metadata": {},
   "source": []
  }
 ],
 "metadata": {
  "kernelspec": {
   "display_name": "Python 3",
   "language": "python",
   "name": "python3"
  },
  "language_info": {
   "codemirror_mode": {
    "name": "ipython",
    "version": 3
   },
   "file_extension": ".py",
   "mimetype": "text/x-python",
   "name": "python",
   "nbconvert_exporter": "python",
   "pygments_lexer": "ipython3",
   "version": "3.3.2"
  }
 },
 "nbformat": 4,
 "nbformat_minor": 0
}
