{
 "cells": [
  {
   "cell_type": "code",
   "execution_count": 1,
   "metadata": {
    "collapsed": false
   },
   "outputs": [
    {
     "name": "stdout",
     "output_type": "stream",
     "text": [
      "Idempotent data loading. For a given chromosome n (a string).\n",
      "    \n",
      "    Returns (train_df, test_df, train_ix, test_ix, train_tissues, tfs)\n",
      "    \n",
      "    The first two are the train and test dataframes, and test_ix are the\n",
      "    values in test_df['assayed'] that are missing and need to be imputed (with the\n",
      "    correct answer being in test_df['filled'] in the corresponding locations.\n",
      "    train_ix are the assayed (known) methylation values from limited microarray\n",
      "    sampling (e.g., test_df['assayed'].iloc[train_ix] can be used for prediction of\n",
      "    test_df['filled'].iloc[test_ix], and the former should be about equal to\n",
      "    test_df['filled'].iloc[train_ix] (two different ways of sampling methylation).\n",
      "    \n",
      "    Imports genetic context and adds those columns to the parameter df, returning\n",
      "    a merged one. tfs is the list of names of new transcription\n",
      "    factors.\n",
      "    \n",
      "    train_tissues is a list of the names of columns with chromosome methylation values.\n",
      "    \n",
      "    Note that loading from scratch may take ~5 min (for merging genetic contexts).\n"
     ]
    }
   ],
   "source": [
    "# Imports\n",
    "\n",
    "%matplotlib inline\n",
    "import matplotlib.pyplot as plt\n",
    "from matplotlib.colors import LogNorm\n",
    "import tensorflow as tf\n",
    "import numpy as np\n",
    "import pandas as pd\n",
    "from itertools import *\n",
    "import sklearn\n",
    "import math\n",
    "import os\n",
    "import random\n",
    "import sys\n",
    "import multiprocessing\n",
    "import scipy\n",
    "from joblib import Parallel, delayed\n",
    "import threading\n",
    "nproc = max(1, multiprocessing.cpu_count() - 1)\n",
    "\n",
    "if 'utils' not in sys.path:\n",
    "    sys.path.append('utils')\n",
    "\n",
    "import data_loader\n",
    "from tf_gmm_em import *\n",
    "\n",
    "# Warnings\n",
    "\n",
    "import warnings\n",
    "warnings.filterwarnings('ignore')\n",
    "\n",
    "# Idempotent, cached data retrieval script\n",
    "\n",
    "print(data_loader.load_chromosome.__doc__)\n",
    "train_df, test_df, train_ix, test_ix, train_tissues, tfs = \\\n",
    "    data_loader.load_chromosome_cached('1')"
   ]
  },
  {
   "cell_type": "code",
   "execution_count": 2,
   "metadata": {
    "collapsed": false
   },
   "outputs": [
    {
     "name": "stdout",
     "output_type": "stream",
     "text": [
      "Epsilon for argmax = 0.001 ; best K = 10 ; mean = 0.675767406197\n",
      "Epsilon for mle = 0.001 ; best K = 8 ; mean = 0.677064817382\n",
      "best_parameter set {'K': 10, 'method': 'argmax', 'min_covar': 0.001}\n"
     ]
    }
   ],
   "source": [
    "prefix = '/n/fs/cyc424/sjayanti/final-proj-cos-424/data/'\n",
    "arg_k = np.arange(2,15)\n",
    "\n",
    "best_params = {}\n",
    "for estimate in ('mle', 'argmax'):\n",
    "    best_k_r2 = -np.inf, None\n",
    "    for epsilon in ('eps', '0.001'):\n",
    "        for k in arg_k:\n",
    "            filename = prefix + 'cv-'+str(k)+'-'+estimate+'-'+epsilon+'.p_r2.npy'\n",
    "            if not os.path.isfile(filename): continue\n",
    "            mean = np.median(np.load(filename))\n",
    "            best_k_r2 = max(best_k_r2, (mean, k, epsilon))\n",
    "    best_params[estimate] = best_k_r2\n",
    "highest = {} \n",
    "for k, v in best_params.items():\n",
    "    mean, best_k, epsilon = v\n",
    "    ls = []\n",
    "    for K in arg_k:\n",
    "        filename = prefix + 'cv-'+str(K)+'-'+k+'-'+epsilon+'.p_r2.npy'\n",
    "        if not os.path.isfile(filename): continue\n",
    "        mean = np.median(np.load(filename))\n",
    "        ls.append((K, mean))\n",
    "    Ks, means = zip(*ls)\n",
    "    Ks, means = np.array(Ks), np.array(means)\n",
    "    print('Epsilon for', k, '=', epsilon, '; best K =', best_k, '; mean =', mean)\n",
    "    highest[k] = (Ks, means)\n",
    "\n",
    "best_params_tuple = max(best_params.items(), key=lambda x: x[1][1])\n",
    "best_params = {'method': best_params_tuple[0],\n",
    "               'min_covar': float(best_params_tuple[1][2]),\n",
    "               'K': best_params_tuple[1][1]}\n",
    "print('best_parameter set', best_params)"
   ]
  },
  {
   "cell_type": "code",
   "execution_count": 3,
   "metadata": {
    "collapsed": false
   },
   "outputs": [
    {
     "data": {
      "image/png": "[encoded data removed]",
      "text/plain": [
       "<matplotlib.figure.Figure at 0x7f87dde8dfd0>"
      ]
     },
     "metadata": {},
     "output_type": "display_data"
    }
   ],
   "source": [
    "def plotR2(r2dict):\n",
    "    mles = r2dict['mle'][1]\n",
    "    amxs = r2dict['argmax'][1]\n",
    "    Km = r2dict['mle'][0]\n",
    "    Ka = r2dict['argmax'][0]\n",
    "\n",
    "    # It's actually a mode (mle of predictive distribution\n",
    "    # but mle nomenclature might be confusing)\n",
    "    plt.plot(Km, mles, label='mode')\n",
    "    plt.plot(Ka, amxs, label='argmax')\n",
    "    plt.suptitle('median R^2 values', fontsize=15)\n",
    "    plt.ylabel('R^2')\n",
    "    plt.xlabel('K')\n",
    "    plt.legend()\n",
    "    plt.axis([2,14,0.5,1])\n",
    "    plt.show()\n",
    "\n",
    "plotR2(highest)"
   ]
  },
  {
   "cell_type": "code",
   "execution_count": 4,
   "metadata": {
    "collapsed": false
   },
   "outputs": [
    {
     "name": "stdout",
     "output_type": "stream",
     "text": [
      "(30, 379551)\n",
      "(30, 379551)\n"
     ]
    }
   ],
   "source": [
    "train_df_int = train_df\n",
    "for i in train_tissues:\n",
    "    train_df_int[i] = data_loader.local_impute(train_df[i].copy())\n",
    "tissues_to_cluster = train_tissues[:]\n",
    "for i in [14, 25, 26, 33]:\n",
    "    tissues_to_cluster.remove('b' + str(i))\n",
    "X_np = train_df_int[tissues_to_cluster].values.transpose()\n",
    "print(X_np.shape)\n",
    "X_np_new = X_np\n",
    "print(X_np_new.shape)"
   ]
  },
  {
   "cell_type": "code",
   "execution_count": 5,
   "metadata": {
    "collapsed": false
   },
   "outputs": [
    {
     "name": "stdout",
     "output_type": "stream",
     "text": [
      "K 10\n",
      "NUM_RESTARTS 100 running on 47 cores\n",
      "X_perm.shape (30, 379551)\n",
      "Restart 1/100\n",
      "Restart 2/100\n",
      "Restart 3/100\n",
      "Restart 4/100\n",
      "Restart 5/100\n",
      "Restart 6/100\n",
      "Restart 7/100\n",
      "Restart 8/100\n",
      "Restart 9/100\n",
      "Restart 10/100\n",
      "Restart 11/100\n",
      "Restart 12/100\n",
      "Restart 13/100\n",
      "Restart 14/100\n",
      "Restart 15/100\n",
      "Restart 16/100\n",
      "Restart 17/100\n",
      "Restart 18/100\n",
      "Restart 19/100\n",
      "Restart 20/100\n",
      "Restart 21/100\n",
      "Restart 22/100\n",
      "Restart 23/100\n",
      "Restart 24/100\n",
      "Restart 25/100\n",
      "Restart 26/100\n",
      "Restart 27/100\n",
      "Restart 28/100\n",
      "Restart 29/100\n",
      "Restart 30/100\n",
      "Restart 31/100\n",
      "Restart 32/100\n",
      "Restart 33/100\n",
      "Restart 34/100\n",
      "Restart 35/100\n",
      "Restart 36/100\n",
      "Restart 37/100\n",
      "Restart 38/100\n",
      "Restart 39/100\n",
      "Restart 40/100\n",
      "Restart 41/100\n",
      "Restart 42/100\n",
      "Restart 43/100\n",
      "Restart 44/100\n",
      "Restart 45/100\n",
      "Restart 46/100\n",
      "Restart 47/100\n",
      "Restart 48/100\n",
      "Restart 49/100\n",
      "Restart 50/100\n",
      "Restart 51/100\n",
      "Restart 52/100\n",
      "Restart 53/100\n",
      "Restart 54/100\n",
      "Restart 55/100\n",
      "Restart 56/100\n",
      "Restart 57/100\n",
      "Restart 58/100\n",
      "Restart 59/100\n",
      "Restart 60/100\n",
      "Restart 61/100\n",
      "Restart 62/100\n",
      "Restart 63/100\n",
      "Restart 64/100\n",
      "Restart 65/100\n",
      "Restart 66/100\n",
      "Restart 67/100\n",
      "Restart 68/100\n",
      "Restart 69/100\n",
      "Restart 70/100\n",
      "Restart 71/100\n",
      "Restart 72/100\n",
      "Restart 73/100\n",
      "Restart 74/100\n",
      "Restart 75/100\n",
      "Restart 76/100\n",
      "Restart 77/100\n",
      "Restart 78/100\n",
      "Restart 79/100\n",
      "Restart 80/100\n",
      "Restart 81/100\n",
      "Restart 82/100\n",
      "Restart 83/100\n",
      "Restart 84/100\n",
      "Restart 85/100\n",
      "Restart 86/100\n",
      "Restart 87/100\n",
      "Restart 88/100\n",
      "Restart 89/100\n",
      "Restart 90/100\n",
      "Restart 91/100\n",
      "Restart 92/100\n",
      "Restart 93/100\n",
      "Restart 94/100\n",
      "Restart 95/100\n",
      "Restart 96/100\n",
      "Restart 97/100\n",
      "Restart 98/100\n",
      "Restart 99/100\n",
      "Restart 100/100\n",
      "Done picking best EM\n",
      "368411 368411\n",
      "rmse 0.0661286095013\n",
      "r2 0.847070920068\n"
     ]
    }
   ],
   "source": [
    "# Fix a value of K. Perform NUM_RESTARTS random restarts, and pick EM fit with highest mean likelihood \n",
    "# X_np_new = data matrix with bad samples deleted.\n",
    "# X_perm   = permute(X_np_new)\n",
    "# NUM_RESTARTS = number of random restarts\n",
    "\n",
    "NUM_RESTARTS = 100\n",
    "\n",
    "def get_permutation():\n",
    "    o = np.ones(len(train_df))\n",
    "    o[train_ix] = 0\n",
    "    o[test_ix] = 0\n",
    "    unobserved_untested_ix = np.where(o)[0]\n",
    "    o = np.zeros(len(train_df))\n",
    "    o[test_ix] = 1\n",
    "    unobserved_tested_ix = np.where(o)[0]\n",
    "    permutation = np.hstack((train_ix, unobserved_tested_ix, unobserved_untested_ix))\n",
    "    return permutation, unobserved_tested_ix, unobserved_untested_ix\n",
    "\n",
    "perm, unobserved_tested_ix, unobserved_untested_ix = get_permutation()\n",
    "X_perm = X_np_new[:, perm]\n",
    "\n",
    "print(\"K\", best_params['K'])\n",
    "print(\"NUM_RESTARTS\", NUM_RESTARTS)\n",
    "print(\"X_perm.shape\", X_perm.shape) \n",
    "\n",
    "def run_restart(mu_vals):\n",
    "    return fit_em(X_perm, X_perm[mu_vals], 100, EPS, best_params['min_covar'])\n",
    "\n",
    "def fit_model():\n",
    "    if best_params['method'] != 'argmax': raise Exception('Only argmax implemented')\n",
    "    N = X_perm.shape[0]\n",
    "    tf.reset_default_graph()\n",
    "    np.random.seed(17)\n",
    "    lp, m, s, a = -np.inf, None, None, None\n",
    "    for i in range(NUM_RESTARTS):\n",
    "        print('Restart {}/{}'.format(i+1, NUM_RESTARTS))\n",
    "        rmu = np.random.choice(range(X_perm.shape[0]), best_params['K'], replace=False)\n",
    "        t = run_restart(rmu)\n",
    "        if t[0] > lp:\n",
    "            lp, m, s, a = t\n",
    "\n",
    "    print(\"Done picking best EM\")\n",
    "    ''' \n",
    "    all_alphas = np.zeros((K, N))\n",
    "    for sample in range(N):\n",
    "        X_test = X_train[sample, :]\n",
    "        observed = X_test\n",
    "        marginal_means, marginal_covs, marginal_alphas = marginal_posterior(observed.reshape(1, len(observed)), m, s, a)\n",
    "        all_alphas[:, sample] = marginal_alphas.transpose()[:,0]\n",
    "    '''      \n",
    "    \n",
    "    observed = test_df['filled'][train_ix].values\n",
    "    marginal_means, marginal_covs, marginal_alphas = marginal_posterior(observed.reshape(1, len(observed)), m, s, a)\n",
    "    \n",
    "    pred = argmax_exp(marginal_means, marginal_covs, marginal_alphas[0])[:len(unobserved_tested_ix)]\n",
    "    actual = test_df['filled'][unobserved_tested_ix]\n",
    "    print(len(pred), len(actual))\n",
    "    rmse = sklearn.metrics.mean_squared_error(actual, pred)\n",
    "    print('rmse', np.sqrt(rmse)) # rmse of GMM\n",
    "    r2 = sklearn.metrics.r2_score(actual, pred)\n",
    "    print('r2', r2)\n",
    "    return marginal_means, marginal_covs, marginal_alphas, lp, m, s, a\n",
    "\n",
    "#KxN responsibilities\n",
    "marginal_means, marginal_covs, marginal_alphas, marginal_logp, mus, sigs, alphas = fit_model()"
   ]
  },
  {
   "cell_type": "code",
   "execution_count": 6,
   "metadata": {
    "collapsed": false
   },
   "outputs": [
    {
     "name": "stdout",
     "output_type": "stream",
     "text": [
      "(10, 30)\n"
     ]
    }
   ],
   "source": [
    "with tf.Session() as sess:\n",
    "    resp = sess.run(estep(X_perm, mus, sigs, alphas)[1])\n",
    "print(resp.shape)"
   ]
  },
  {
   "cell_type": "code",
   "execution_count": 7,
   "metadata": {
    "collapsed": false
   },
   "outputs": [
    {
     "data": {
      "image/png": "[encoded data removed]",
      "text/plain": [
       "<matplotlib.figure.Figure at 0x7f87bed9eb10>"
      ]
     },
     "metadata": {},
     "output_type": "display_data"
    }
   ],
   "source": [
    "def plotbar(resp):\n",
    "    f = plt.figure(figsize=(10,10))\n",
    "    K = resp.shape[0]\n",
    "    N = resp.shape[1]\n",
    "\n",
    "    sample_interval = [i for i in range(N)]\n",
    "    running_sum = np.zeros(N)\n",
    "    color_vec = plt.cm.rainbow(np.linspace(0, 1, K))\n",
    "    for i in range(resp.shape[0]):\n",
    "        plt.bar(sample_interval, resp[i,:], width=1.0, color = color_vec[i], bottom = running_sum, label=str(i))\n",
    "        running_sum = running_sum + resp[i,:]\n",
    "    plt.suptitle('Cluster Responsibilities', fontsize=20)\n",
    "    plt.ylabel('Responsibilities by Cluster')\n",
    "    plt.xlabel('Samples')\n",
    "    plt.axis([0,N,0,1])\n",
    "    #plt.legend(handles=[mplot, aplot])\n",
    "    x = [i+0.5 for i in range(N)]\n",
    "    labels = [i+1 for i in range(N)]\n",
    "    plt.xticks(x, labels, rotation='vertical')\n",
    "    plt.legend(bbox_to_anchor=(1.05, 1), loc=2, borderaxespad=0.)\n",
    "    plt.show()\n",
    "\n",
    "plotbar(resp)"
   ]
  },
  {
   "cell_type": "code",
   "execution_count": 8,
   "metadata": {
    "collapsed": false
   },
   "outputs": [
    {
     "name": "stdout",
     "output_type": "stream",
     "text": [
      "1.0\n",
      "2.0\n"
     ]
    }
   ],
   "source": [
    "def KL(mu1, mu2, sigma1, sigma2):\n",
    "    logsum1 = np.sum(np.log(sigma1))\n",
    "    logsum2 = np.sum(np.log(sigma2))\n",
    "    detS1 = np.prod(sigma1)\n",
    "    detS2 = np.prod(sigma2)\n",
    "\n",
    "    d = len(mu1)\n",
    "    \n",
    "    invS2 = [1/x for x in sigma2]\n",
    "    trInvS2S1 = np.sum([x1*x2 for x1, x2 in zip(invS2, sigma1)])\n",
    "    \n",
    "    mu2MinusMu1 = [x-y for x,y in zip(mu2,mu1)]\n",
    "    lastTerm = np.sum([x1*x2*x3 for x1, x2, x3 in zip(mu2MinusMu1, invS2, mu2MinusMu1)])\n",
    "    \n",
    "    kl = (1/2)*(logsum2-logsum1 - d + trInvS2S1 + lastTerm)\n",
    "    #kl = (1/2)*(np.log(detS2/detS1) - d + trInvS2S1 + lastTerm)\n",
    "    return kl\n",
    "    \n",
    "def sym_KL(mu1, mu2, sigma1, sigma2):\n",
    "    kl1 = KL(mu1, mu2, sigma1, sigma2)\n",
    "    kl2 = KL(mu2, mu1, sigma2, sigma1)\n",
    "    return kl1 + kl2\n",
    "    \n",
    "print(KL([1,1],[0,0],[1,1],[1,1]))\n",
    "print(sym_KL([1,1],[0,0],[1,1],[1,1]))"
   ]
  },
  {
   "cell_type": "code",
   "execution_count": null,
   "metadata": {
    "collapsed": false
   },
   "outputs": [],
   "source": [
    "np.seterr(all='raise')\n",
    "def plot_KL(mu, sigma):\n",
    "    K = len(mu)\n",
    "    kl_mat = [[sym_KL(mu[i], mu[j], sigma[i], sigma[j]) for i in range(K)] for j in range(K)]\n",
    "    #print(kl_mat)\n",
    "    plt.imshow(kl_mat, interpolation='nearest', cmap=plt.cm.ocean)\n",
    "    plt.title('Cluster Symmetric KL-Divergence Matrix')\n",
    "    plt.colorbar()\n",
    "    plt.tight_layout()\n",
    "    plt.show()\n",
    "\n",
    "plot_KL(mus, sigs)"
   ]
  },
  {
   "cell_type": "code",
   "execution_count": null,
   "metadata": {
    "collapsed": false
   },
   "outputs": [],
   "source": [
    "ma = marginal_alphas.reshape(-1)\n",
    "sa = sorted(list(zip(ma.reshape(-1), range(len(ma)))), reverse=True)\n",
    "vals, labels = zip(*sa)\n",
    "\n",
    "plt.plot(vals, 'bs-')\n",
    "plt.xticks(range(len(ma)), labels)\n",
    "plt.title('posterior cluster probabilities')\n",
    "plt.ylabel('cluster log likelihood')\n",
    "plt.xlabel('cluster index')\n",
    "plt.show()\n",
    "print('Note that the next most likely cluster has a log likelihood of {}, still very small'.format(sa[1]))"
   ]
  },
  {
   "cell_type": "code",
   "execution_count": null,
   "metadata": {
    "collapsed": false
   },
   "outputs": [],
   "source": [
    "best_label = labels[0]\n",
    "print('best label', best_label)\n",
    "bmu = marginal_means[best_label]\n",
    "bsigma = np.sqrt(marginal_covs[best_label])\n",
    "print(bmu.shape, bsigma.shape)\n",
    "l = len(unobserved_tested_ix)\n",
    "bmu_cut, bsigma_cut = bmu[:l], bsigma[:l]\n",
    "actual = test_df['filled'][unobserved_tested_ix]\n",
    "lo = bmu_cut - 2 * bsigma_cut\n",
    "hi = bmu_cut + 2 * bsigma_cut\n",
    "print(bmu_cut.mean(), actual.mean())\n",
    "inside = (lo <= actual) & (actual <= hi)\n",
    "print(inside.shape)\n",
    "print('ratio inside', inside.sum() / len(inside))"
   ]
  }
 ],
 "metadata": {
  "kernelspec": {
   "display_name": "Python 3",
   "language": "python",
   "name": "python3"
  },
  "language_info": {
   "codemirror_mode": {
    "name": "ipython",
    "version": 3
   },
   "file_extension": ".py",
   "mimetype": "text/x-python",
   "name": "python",
   "nbconvert_exporter": "python",
   "pygments_lexer": "ipython3",
   "version": "3.3.2"
  }
 },
 "nbformat": 4,
 "nbformat_minor": 0
}
